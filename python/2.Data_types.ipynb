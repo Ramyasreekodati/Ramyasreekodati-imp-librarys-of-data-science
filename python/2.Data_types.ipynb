{
 "cells": [
  {
   "cell_type": "markdown",
   "metadata": {},
   "source": [
    "In Python, data types define the kind of value a variable can hold. Python supports several built-in data types, categorized as follows:"
   ]
  },
  {
   "cell_type": "markdown",
   "metadata": {},
   "source": [
    "# Summary Table\n",
    "   # Category       -         Type\t          -           Examples\n",
    "1.     Numeric\t             int\t                     42,-5\n",
    "2.     float\t             3.14,                          -0.99\n",
    "3.     complex\t             2+3j,                             5j\n",
    "4.     Sequence\t     str\t                     \"hello\",'Python'\n",
    "                            list\t                     [1, 2, 3],[\"a\", \"b\"]\n",
    "                            tuple\t                     (1, 2, 3)\n",
    "                            range\t                     range(5)\n",
    "5.     Mapping\t             dict                           {\"key\": \"value\"}\n",
    "6.     Set\t             set\t                     {1, 2, 3}\n",
    "                            frozenset\t                     frozenset([1, 2, 3])\n",
    "7.     Boolean\t             bool\t                     True, False\n",
    "8.     Binary\t             bytes\t                     b'hello'\n",
    "                            bytearray\t                    bytearray(b'world')\n",
    "                            memoryview\t                    memoryview(b'hello')\n",
    "9.     None Type\t     NoneType\t                     None"
   ]
  },
  {
   "cell_type": "markdown",
   "metadata": {},
   "source": [
    "#### Numeric Types\n",
    "These handle numbers.\n",
    "\n",
    "int: Integer values (e.g., 5, -3, 100).\n",
    "\n",
    "float: Decimal values (e.g., 3.14, -0.99).\n",
    "\n",
    "complex: Complex numbers with real and imaginary parts (e.g., 3+4j)."
   ]
  },
  {
   "cell_type": "code",
   "execution_count": 4,
   "metadata": {},
   "outputs": [],
   "source": [
    "int_example = 42  # int\n",
    "negative_int_example = -5\n",
    "\n",
    "float_example = 3.14  # float\n",
    "negative_float_example = -0.99\n",
    "\n",
    "complex_example = 2 + 3j  # complex\n",
    "imaginary_example = 5j"
   ]
  },
  {
   "cell_type": "code",
   "execution_count": 5,
   "metadata": {},
   "outputs": [
    {
     "name": "stdout",
     "output_type": "stream",
     "text": [
      "Numeric Types:\n",
      "int: 42 -5\n",
      "float: 3.14 -0.99\n",
      "complex: (2+3j) 5j\n"
     ]
    }
   ],
   "source": [
    "print(\"Numeric Types:\")\n",
    "print(\"int:\", int_example, negative_int_example)\n",
    "print(\"float:\", float_example, negative_float_example)\n",
    "print(\"complex:\", complex_example, imaginary_example)"
   ]
  },
  {
   "cell_type": "markdown",
   "metadata": {},
   "source": [
    "#### Sequence Types:\n",
    "\n",
    "list: Ordered, mutable collection of elements (can hold different data types), e.g., [1, 2, 3], [\"apple\", 4, True]\n",
    "\n",
    "tuple: Ordered, immutable collection of elements, e.g., (1, 2, 3), (\"apple\", 4, True)\n",
    "\n",
    "range: A sequence of numbers, commonly used in loops, e.g., range(5) produces numbers from 0 to 4"
   ]
  },
  {
   "cell_type": "code",
   "execution_count": 6,
   "metadata": {},
   "outputs": [],
   "source": [
    "str_example = \"hello\"  # str\n",
    "str_single_quotes = 'Python'\n",
    "\n",
    "list_example = [1, 2, 3]  # list\n",
    "list_with_strings = [\"a\", \"b\"]\n",
    "\n",
    "tuple_example = (1, 2, 3)  # tuple\n",
    "\n",
    "range_example = range(5)  # range"
   ]
  },
  {
   "cell_type": "code",
   "execution_count": 7,
   "metadata": {},
   "outputs": [
    {
     "name": "stdout",
     "output_type": "stream",
     "text": [
      "\n",
      "Sequence Types:\n",
      "str: hello Python\n",
      "list: [1, 2, 3] ['a', 'b']\n",
      "tuple: (1, 2, 3)\n",
      "range: [0, 1, 2, 3, 4]\n"
     ]
    }
   ],
   "source": [
    "print(\"\\nSequence Types:\")\n",
    "print(\"str:\", str_example, str_single_quotes)\n",
    "print(\"list:\", list_example, list_with_strings)\n",
    "print(\"tuple:\", tuple_example)\n",
    "print(\"range:\", list(range_example))"
   ]
  },
  {
   "cell_type": "markdown",
   "metadata": {},
   "source": [
    "#### Text Type:\n",
    "\n",
    "str: String (a sequence of characters), e.g., \"Hello, World!\", 'Python'"
   ]
  },
  {
   "cell_type": "code",
   "execution_count": 8,
   "metadata": {},
   "outputs": [],
   "source": [
    "str_example = \"hello\"  # str\n",
    "str_single_quotes = 'Python'"
   ]
  },
  {
   "cell_type": "code",
   "execution_count": 10,
   "metadata": {},
   "outputs": [
    {
     "name": "stdout",
     "output_type": "stream",
     "text": [
      "\n",
      " text Types:\n",
      "str: hello Python\n"
     ]
    }
   ],
   "source": [
    "print(\"\\n text Types:\")\n",
    "print(\"str:\", str_example, str_single_quotes)"
   ]
  },
  {
   "cell_type": "markdown",
   "metadata": {},
   "source": [
    "#### Mapping Type:\n",
    "\n",
    "dict: Dictionary (unordered collection of key-value pairs), e.g., {\"name\": \"John\", \"age\": 25}"
   ]
  },
  {
   "cell_type": "code",
   "execution_count": 11,
   "metadata": {},
   "outputs": [],
   "source": [
    "# Mapping type\n",
    "dict_example = {\"key\": \"value\"}  # dict"
   ]
  },
  {
   "cell_type": "code",
   "execution_count": 12,
   "metadata": {},
   "outputs": [
    {
     "name": "stdout",
     "output_type": "stream",
     "text": [
      "\n",
      "Mapping Type:\n",
      "dict: {'key': 'value'}\n"
     ]
    }
   ],
   "source": [
    "print(\"\\nMapping Type:\")\n",
    "print(\"dict:\", dict_example)"
   ]
  },
  {
   "cell_type": "markdown",
   "metadata": {},
   "source": [
    "#### Set Types:\n",
    "\n",
    "set: Unordered collection of unique elements, e.g., {1, 2, 3}, {\"apple\", \"banana\"}\n",
    "\n",
    "frozenset: An immutable version of a set, e.g., frozenset([1, 2, 3])"
   ]
  },
  {
   "cell_type": "code",
   "execution_count": 14,
   "metadata": {},
   "outputs": [],
   "source": [
    "# Set types\n",
    "set_example = {1, 2, 3}  # set\n",
    "frozenset_example = frozenset([1, 2, 3])  # frozenset"
   ]
  },
  {
   "cell_type": "code",
   "execution_count": 15,
   "metadata": {},
   "outputs": [
    {
     "name": "stdout",
     "output_type": "stream",
     "text": [
      "\n",
      "Set Types:\n",
      "set: {1, 2, 3}\n",
      "frozenset: frozenset({1, 2, 3})\n"
     ]
    }
   ],
   "source": [
    "\n",
    "print(\"\\nSet Types:\")\n",
    "print(\"set:\", set_example)\n",
    "print(\"frozenset:\", frozenset_example)"
   ]
  },
  {
   "cell_type": "markdown",
   "metadata": {},
   "source": [
    "#### Boolean Type:\n",
    "\n",
    "bool: Boolean values, either True or False"
   ]
  },
  {
   "cell_type": "code",
   "execution_count": 16,
   "metadata": {},
   "outputs": [],
   "source": [
    "# Boolean type\n",
    "bool_true = True  # bool\n",
    "bool_false = False"
   ]
  },
  {
   "cell_type": "code",
   "execution_count": 17,
   "metadata": {},
   "outputs": [
    {
     "name": "stdout",
     "output_type": "stream",
     "text": [
      "\n",
      "Boolean Type:\n",
      "bool: True False\n"
     ]
    }
   ],
   "source": [
    "print(\"\\nBoolean Type:\")\n",
    "print(\"bool:\", bool_true, bool_false)"
   ]
  },
  {
   "cell_type": "markdown",
   "metadata": {},
   "source": [
    "#### Binary Types:\n",
    "\n",
    "bytes: Immutable sequence of bytes, e.g., b'hello'\n",
    "\n",
    "bytearray: Mutable sequence of bytes, e.g., bytearray([65, 66, 67])\n",
    "\n",
    "memoryview: A memory view object that exposes an array’s buffer interface"
   ]
  },
  {
   "cell_type": "code",
   "execution_count": 1,
   "metadata": {},
   "outputs": [],
   "source": [
    "# Binary types\n",
    "bytes_example = b'hello'  # bytes\n",
    "bytearray_example = bytearray(b'world')  # bytearray\n",
    "memoryview_example = memoryview(b'world')  # memoryview"
   ]
  },
  {
   "cell_type": "code",
   "execution_count": 2,
   "metadata": {},
   "outputs": [
    {
     "name": "stdout",
     "output_type": "stream",
     "text": [
      "\n",
      "Binary Types:\n",
      "bytes: b'hello'\n",
      "bytearray: bytearray(b'world')\n",
      "memoryview: [119, 111, 114, 108, 100]\n"
     ]
    }
   ],
   "source": [
    "print(\"\\nBinary Types:\")\n",
    "print(\"bytes:\", bytes_example)\n",
    "print(\"bytearray:\", bytearray_example)\n",
    "print(\"memoryview:\", memoryview_example.tolist())"
   ]
  },
  {
   "cell_type": "code",
   "execution_count": 3,
   "metadata": {},
   "outputs": [
    {
     "name": "stdout",
     "output_type": "stream",
     "text": [
      "Before modification: bytearray(b'world')\n",
      "After modification: bytearray(b'DErld')\n"
     ]
    }
   ],
   "source": [
    "# Create a bytearray\n",
    "bytearray_example= bytearray([119, 111, 114, 108, 100])  # Represents \"A\", \"B\", \"C\" in ASCII\n",
    "\n",
    "# Print the initial bytearray\n",
    "print(\"Before modification:\", bytearray_example)  # Output: bytearray(b'ABC')\n",
    "\n",
    "# Modify the first element (65 -> 68, which is 'D' in ASCII)\n",
    "bytearray_example[0] = 68\n",
    "\n",
    "# Modify the second element (66 -> 69, which is 'E' in ASCII)\n",
    "bytearray_example[1] = 69\n",
    "\n",
    "# Add a new byte (70, which is 'F' in ASCII) at the end\n",
    "bytearray_example.append(70)\n",
    "\n",
    "# Remove the last byte\n",
    "bytearray_example.pop()\n",
    "\n",
    "# Print the modified bytearray\n",
    "print(\"After modification:\", bytearray_example)  # Output: bytearray(b'DEC')\n"
   ]
  },
  {
   "cell_type": "markdown",
   "metadata": {},
   "source": [
    "#### None Type:\n",
    "\n",
    "NoneType: Represents the absence of a value, e.g., None"
   ]
  },
  {
   "cell_type": "code",
   "execution_count": 21,
   "metadata": {},
   "outputs": [],
   "source": [
    "# None type\n",
    "none_example = None  # NoneType\n"
   ]
  },
  {
   "cell_type": "code",
   "execution_count": 22,
   "metadata": {},
   "outputs": [
    {
     "name": "stdout",
     "output_type": "stream",
     "text": [
      "\n",
      "None Type:\n",
      "NoneType: None\n"
     ]
    }
   ],
   "source": [
    "print(\"\\nNone Type:\")\n",
    "print(\"NoneType:\", none_example)"
   ]
  },
  {
   "cell_type": "code",
   "execution_count": null,
   "metadata": {},
   "outputs": [],
   "source": []
  }
 ],
 "metadata": {
  "kernelspec": {
   "display_name": "Python 3",
   "language": "python",
   "name": "python3"
  },
  "language_info": {
   "codemirror_mode": {
    "name": "ipython",
    "version": 3
   },
   "file_extension": ".py",
   "mimetype": "text/x-python",
   "name": "python",
   "nbconvert_exporter": "python",
   "pygments_lexer": "ipython3",
   "version": "3.13.0"
  }
 },
 "nbformat": 4,
 "nbformat_minor": 2
}
