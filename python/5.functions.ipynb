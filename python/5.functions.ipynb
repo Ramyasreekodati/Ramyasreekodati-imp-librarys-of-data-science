{
 "cells": [
  {
   "cell_type": "markdown",
   "metadata": {},
   "source": [
    "# Functions:\n",
    "1. function is a group of realted statement that perform a specific task.\n",
    "2. a function is a set of statements that take  inputs, do some specfic computation and produces output.\n",
    "3. it avoids repetition and makes code reusable\n",
    "4. if we use functions written by others in the from of library. it can be termed as library functions. "
   ]
  },
  {
   "cell_type": "markdown",
   "metadata": {},
   "source": [
    "### types of functions\n",
    "1. inbult in function # (abs,any,all,ascii,bin,bool.....)\n",
    "2. user-defined functions"
   ]
  },
  {
   "cell_type": "markdown",
   "metadata": {},
   "source": [
    "### user defined functions\n",
    "1. function that we define to do certain specfic task are referred as user-defined fuctions \n",
    "2. user-defined fuctions help to decompose a large program into small segments which makes program easy to understand, maintain and debug.\n",
    "3. if repeated code occurs in a program. function can be used to include those codes and execute when needed by calling that function.\n",
    "4. programmars working on large project can divide the workload by making different functions."
   ]
  },
  {
   "cell_type": "markdown",
   "metadata": {},
   "source": [
    "### return:\n",
    "1. the return statement is used to exit a funtions and go the place from where it was called.\n",
    "2. return statement can containan expression which gets evaluted and the value is returned \n",
    "3. if there is no expression in the statement or the return statement itself is not present inside a function, then the function will return none object\n"
   ]
  },
  {
   "cell_type": "code",
   "execution_count": 1,
   "metadata": {},
   "outputs": [
    {
     "name": "stdout",
     "output_type": "stream",
     "text": [
      "16\n"
     ]
    },
    {
     "data": {
      "text/plain": [
       "25"
      ]
     },
     "execution_count": 1,
     "metadata": {},
     "output_type": "execute_result"
    }
   ],
   "source": [
    "# defining a function with doc string\n",
    "\n",
    "def Square_this(x): # key word \"def\" marks the start of function header\n",
    "    #parameters (arguments ) throught which we pass values to a function . These are optional\n",
    "    # A colon (:) to mark the end of function header\n",
    "    #doc string describe what the function does. This is optional\n",
    "    \n",
    "    \"\"\"this function will return the square of the given number.\"\"\"\n",
    "    \n",
    "    return x**2\n",
    "    \n",
    "    # \"return\" statement to return a value from the function. This is optional\n",
    "\n",
    "print(Square_this(4))\n",
    "Square_this(5)# call the function."
   ]
  },
  {
   "cell_type": "code",
   "execution_count": 2,
   "metadata": {},
   "outputs": [
    {
     "name": "stdout",
     "output_type": "stream",
     "text": [
      "46\n",
      "9.428571428571429\n"
     ]
    }
   ],
   "source": [
    "# defining a function with 1 argument\n",
    "def we_are_printing_one_argument(a):\n",
    "    print(a*2)\n",
    "def we_are_printing_two_arguments(a,b):\n",
    "    print(a/b)\n",
    "we_are_printing_one_argument(23)\n",
    "we_are_printing_two_arguments(66,7)"
   ]
  },
  {
   "cell_type": "code",
   "execution_count": 3,
   "metadata": {},
   "outputs": [
    {
     "name": "stdout",
     "output_type": "stream",
     "text": [
      "Hello Carlos\n",
      "Hello Wanda\n",
      "Hello Rose\n"
     ]
    }
   ],
   "source": [
    "# user-defined functions\n",
    "def say_hello(name):\n",
    "   print(f'Hello {name}')\n",
    "say_hello('Carlos')\n",
    "\n",
    "say_hello('Wanda')\n",
    "\n",
    "say_hello('Rose')\n"
   ]
  },
  {
   "cell_type": "markdown",
   "metadata": {},
   "source": [
    "differnt types of arguments\n",
    "1. function with no arguments\n",
    "2. positional arguments\n",
    "3. default arguments\n",
    "4. keyword arguments\n",
    "5. arbitary arguments"
   ]
  },
  {
   "cell_type": "code",
   "execution_count": 4,
   "metadata": {},
   "outputs": [
    {
     "name": "stdout",
     "output_type": "stream",
     "text": [
      "hello ramya good morning\n"
     ]
    }
   ],
   "source": [
    "# function with no arguments\n",
    "def greet():\n",
    "    print(\"hello\",\"ramya\",\"good morning\")\n",
    "greet()\n"
   ]
  },
  {
   "cell_type": "markdown",
   "metadata": {},
   "source": [
    "# positional arguments\n",
    "1. the number of arguments while defining a function & calling should be same. Otherwise, it throws error\n",
    "2. order is preserved\n",
    "3. its executes in the same order"
   ]
  },
  {
   "cell_type": "code",
   "execution_count": 5,
   "metadata": {},
   "outputs": [
    {
     "name": "stdout",
     "output_type": "stream",
     "text": [
      "Hello ramya goodmoring\n",
      "Hello good morning krishna\n",
      "Hello 1 2\n"
     ]
    }
   ],
   "source": [
    "def greet(name,wishes):\n",
    "    print(\"Hello\",name,wishes)\n",
    "greet(\"ramya\",\"goodmoring\")\n",
    "greet(\"good morning\",\"krishna\")\n",
    "greet(1,2)\n"
   ]
  },
  {
   "cell_type": "markdown",
   "metadata": {},
   "source": [
    "# default arguments\n",
    "1. while creating a function , we are assigning a default value to an argument by using the assignment opertor(=)\n",
    "2. if you don't assign value for default arguments, it will qutomatically selects the default value\n",
    "3. if you assign the value for default argument, it will consider that value which you have assigned .  "
   ]
  },
  {
   "cell_type": "code",
   "execution_count": 6,
   "metadata": {},
   "outputs": [
    {
     "name": "stdout",
     "output_type": "stream",
     "text": [
      "hello ramya good morning\n",
      "hello kanha good night\n"
     ]
    }
   ],
   "source": [
    "def greet(name,msg=\"good morning\"):\n",
    "    print(\"hello\",name,msg)\n",
    "    \n",
    "greet(\"ramya\")\n",
    "greet(\"kanha\",\"good night\")"
   ]
  },
  {
   "cell_type": "code",
   "execution_count": 7,
   "metadata": {},
   "outputs": [
    {
     "name": "stdout",
     "output_type": "stream",
     "text": [
      "hello radha good morning\n"
     ]
    }
   ],
   "source": [
    "#key word argument\n",
    "def greet(name,msg):\n",
    "    print(\"hello\",name,msg)\n",
    "greet(msg=\"good morning\",name=\"radha\")"
   ]
  },
  {
   "cell_type": "markdown",
   "metadata": {},
   "source": [
    "# arbitary argument\n",
    " sometimes, we do not know in advance that number of arguments that will be passes into a function. python allows us to handle this kind of situation through function calls arbitary number of arguments."
   ]
  },
  {
   "cell_type": "code",
   "execution_count": 8,
   "metadata": {},
   "outputs": [
    {
     "name": "stdout",
     "output_type": "stream",
     "text": [
      "hello 1\n",
      "hello 2\n",
      "hello 3\n",
      "hello 4\n"
     ]
    }
   ],
   "source": [
    "#arbitary argument\n",
    "def greet(*n):\n",
    "    for i in n:\n",
    "        print(\"hello\",i)\n",
    "greet(1,2,3,4)\n"
   ]
  },
  {
   "cell_type": "code",
   "execution_count": 9,
   "metadata": {},
   "outputs": [
    {
     "name": "stdout",
     "output_type": "stream",
     "text": [
      "hello first ramya\n",
      "hello last sree\n"
     ]
    }
   ],
   "source": [
    "def greet(**n):\n",
    "    for i, j in n.items():  # Use .items() to iterate over key-value pairs\n",
    "        print(\"hello\", i, j)\n",
    "\n",
    "greet(first=\"ramya\", last=\"sree\")  # Correct syntax for passing keyword arguments\n"
   ]
  }
 ],
 "metadata": {
  "kernelspec": {
   "display_name": "Python 3",
   "language": "python",
   "name": "python3"
  },
  "language_info": {
   "codemirror_mode": {
    "name": "ipython",
    "version": 3
   },
   "file_extension": ".py",
   "mimetype": "text/x-python",
   "name": "python",
   "nbconvert_exporter": "python",
   "pygments_lexer": "ipython3",
   "version": "3.11.5"
  }
 },
 "nbformat": 4,
 "nbformat_minor": 2
}
