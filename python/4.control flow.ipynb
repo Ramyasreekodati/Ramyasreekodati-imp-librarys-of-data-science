{
 "cells": [
  {
   "cell_type": "markdown",
   "metadata": {},
   "source": [
    "operators:\n",
    "\n",
    "1. arithmentic operators    ----- (+,-,*,/,%,**)\n",
    "2. comparison operators     ----- (<,<=,>,=>,!=)\n",
    "3. logical operators        ----- (AND,OR,NOT)\n",
    "4. bitwise opertors         ----- (&,|,<<,>>,-,^)\n",
    "5. assignment opertors      ----- (=,+=,-=,*=,%=)\n",
    "6. identity operators and   ----- (is,is not)\n",
    "7. membership operators     ----- (in,not in)"
   ]
  },
  {
   "cell_type": "markdown",
   "metadata": {},
   "source": [
    "#### precedence of arithmetic opertors in python :\n",
    "p-parenthesis\n",
    "\n",
    "e-exponentiation\n",
    "\n",
    "m-multiplicaition\n",
    "\n",
    "d-division\n",
    "\n",
    "a-addition\n",
    "\n",
    "s-subtraction"
   ]
  },
  {
   "cell_type": "code",
   "execution_count": 1,
   "metadata": {},
   "outputs": [
    {
     "name": "stdout",
     "output_type": "stream",
     "text": [
      "20\n",
      "12\n",
      "64\n",
      "0\n",
      "65536\n"
     ]
    }
   ],
   "source": [
    "#Arithmetic operators\n",
    "a = 16\n",
    "b = 4\n",
    "add = a + b\n",
    "sub = a - b\n",
    "mul = a * b\n",
    "mod = a % b\n",
    "p = a ** b\n",
    "print(add)\n",
    "print(sub)\n",
    "print(mul)\n",
    "print(mod)\n",
    "print(p)"
   ]
  },
  {
   "cell_type": "code",
   "execution_count": 2,
   "metadata": {},
   "outputs": [
    {
     "name": "stdout",
     "output_type": "stream",
     "text": [
      "greater than\n"
     ]
    }
   ],
   "source": [
    "#comparison operators\n",
    "x=23\n",
    "y=4\n",
    "if x==y:\n",
    "    print(\"equal\")\n",
    "elif x<y:\n",
    "    print(\"less than\")\n",
    "elif x>y:\n",
    "    print(\"greater than\")\n",
    "else:\n",
    "    print(\"not a number\")\n",
    "\n",
    "    \n",
    "    "
   ]
  },
  {
   "cell_type": "code",
   "execution_count": 3,
   "metadata": {},
   "outputs": [
    {
     "name": "stdout",
     "output_type": "stream",
     "text": [
      "33.0\n"
     ]
    }
   ],
   "source": [
    "x=99\n",
    "while x>34:\n",
    "    x=x/3\n",
    "    print(x)"
   ]
  },
  {
   "cell_type": "code",
   "execution_count": 4,
   "metadata": {},
   "outputs": [
    {
     "name": "stdout",
     "output_type": "stream",
     "text": [
      "2\n",
      "3\n",
      "4\n",
      "5\n",
      "6\n",
      "7\n",
      "8\n",
      "9\n",
      "10\n"
     ]
    }
   ],
   "source": [
    "x=1\n",
    "while x<10:\n",
    "    x+=1\n",
    "    print(x)\n",
    "    "
   ]
  },
  {
   "cell_type": "code",
   "execution_count": 5,
   "metadata": {},
   "outputs": [
    {
     "name": "stdout",
     "output_type": "stream",
     "text": [
      "a=b: False\n",
      "a+=b: 38\n",
      "a-=b: 26\n",
      "a*=b: 192\n",
      "a%=b: 2\n",
      "a**=b: 1073741824\n",
      "a//=b: 5\n"
     ]
    }
   ],
   "source": [
    "#assignment operators\n",
    "a = 32         # Initialize the value of a  \n",
    "b = 6          # Initialize the value of b  \n",
    "print('a=b:', a==b)  \n",
    "print('a+=b:', a+b)  \n",
    "print('a-=b:', a-b)  \n",
    "print('a*=b:', a*b)  \n",
    "print('a%=b:', a%b)  \n",
    "print('a**=b:', a**b)  \n",
    "print('a//=b:', a//b)  "
   ]
  },
  {
   "cell_type": "code",
   "execution_count": 6,
   "metadata": {},
   "outputs": [
    {
     "name": "stdout",
     "output_type": "stream",
     "text": [
      "b is greater\n"
     ]
    }
   ],
   "source": [
    "#logical opertors\n",
    "a=12\n",
    "b=34\n",
    "c=3\n",
    "if (a>b and a>c)  :\n",
    "    print(\"a is greater.\")\n",
    "elif (b>c and b>a):\n",
    "    print(\"b is greater\")\n",
    "else:\n",
    "    print(\"c are greater\")"
   ]
  },
  {
   "cell_type": "markdown",
   "metadata": {},
   "source": [
    "### Boolean Operators\n",
    "There are three Boolean operators: and, or, and not. In the order of precedence, highest to lowest they are not, and and or.\n",
    "\n",
    "The and Operator’s Truth Table:\n",
    "\n",
    "Expression\tEvaluates to\n",
    "1. True and True\tTrue\n",
    "1. True and False\tFalse\n",
    "1. False and True\tFalse\n",
    "1. False and False\tFalse\n",
    "The or Operator’s Truth Table:\n",
    "\n",
    "Expression\tEvaluates to\n",
    "1. True or True\tTrue\n",
    "1. True or False\tTrue\n",
    "1. False or True\tTrue\n",
    "1. False or False\tFalse\n",
    "The not Operator’s Truth Table:\n",
    "\n",
    "Expression\tEvaluates to\n",
    "1. not True\tFalse\n",
    "1. not False\tTrue"
   ]
  },
  {
   "cell_type": "code",
   "execution_count": 7,
   "metadata": {},
   "outputs": [
    {
     "name": "stdout",
     "output_type": "stream",
     "text": [
      "True\n",
      "False\n",
      "False\n",
      "True\n",
      "False\n",
      "True\n"
     ]
    }
   ],
   "source": [
    "#identity opertors\n",
    "a = [\"bsc\", \"bcom\",1,23.4]  \n",
    "b = [\"1\",\"ramya\", \"Little\",23.4,45]  \n",
    "c = a  \n",
    "print(a is c)  \n",
    "print(a is not c)  \n",
    "print(a is b)  \n",
    "print(a is not b)  \n",
    "print(a == b)  \n",
    "print(a != b)  "
   ]
  },
  {
   "cell_type": "code",
   "execution_count": 8,
   "metadata": {},
   "outputs": [
    {
     "name": "stdout",
     "output_type": "stream",
     "text": [
      "x is not in y\n"
     ]
    }
   ],
   "source": [
    "#membership opertors\n",
    "x=[\"tinkle\",\"little\",\"star\"]\n",
    "y=[\"tinkle\",\"star\",\"how\",\"i\",\"wonder\"]\n",
    "if x in y:\n",
    "    print(\"x is in y.\")\n",
    "else:\n",
    "    print(\"x is not in y\")"
   ]
  },
  {
   "cell_type": "code",
   "execution_count": 9,
   "metadata": {},
   "outputs": [
    {
     "name": "stdout",
     "output_type": "stream",
     "text": [
      "a&b: 4\n",
      "a|b: 5\n",
      "a^b: 1\n",
      "~a: -6\n",
      "a<<b: 80\n",
      "a>>b: 0\n"
     ]
    }
   ],
   "source": [
    "#bitwise opertors\n",
    "a = 5          # initialize the value of a  \n",
    "b = 4          # initialize the value of b  \n",
    "print('a&b:', a&b)  \n",
    "print('a|b:', a|b)  \n",
    "print('a^b:', a^b)  \n",
    "print('~a:', ~a)  \n",
    "print('a<<b:', a<<b)  \n",
    "print('a>>b:', a>>b)  "
   ]
  },
  {
   "cell_type": "markdown",
   "metadata": {},
   "source": [
    "### Decision Making statements\n",
    "these are also called as conditional statements or control flow statements in python\n",
    "if\n",
    "if-else\n",
    "if-elif\n",
    "if-elif-else\n",
    "nested if\n",
    "\n",
    "Block structure:\n",
    "1. The code that is executed when a specific condition is met is  defined in a \"block\"\n",
    "2. Statements preceding blocks generally end with a colon(:)\n",
    "3. in python, the block structure is signalled by changes in indentation.\n",
    "4. each line of code in a certain block level must be indented equally and indented more than the surrounding scope.\n",
    "5. the standard is to use 4 spaces for each level of block indentation.\n",
    "\n",
    "\n",
    "if:\n",
    "1. an if statement consists of a boolean expression followed by one or more statements\n",
    "2. only when condition is True ,the \"if block\" will executed\n",
    "3. if the conditions Flase, the \"if block\" is not executed\n",
    "\n"
   ]
  },
  {
   "cell_type": "code",
   "execution_count": 10,
   "metadata": {},
   "outputs": [
    {
     "name": "stdout",
     "output_type": "stream",
     "text": [
      "Hello,little!\n",
      "how are you?\n",
      "it will print definitely\n"
     ]
    }
   ],
   "source": [
    "#if\n",
    "x=10\n",
    "if x>0:\n",
    "    print(\"Hello,little!\")\n",
    "    print(\"how are you?\")\n",
    "print(\"it will print definitely\")"
   ]
  },
  {
   "cell_type": "code",
   "execution_count": 11,
   "metadata": {},
   "outputs": [
    {
     "name": "stdout",
     "output_type": "stream",
     "text": [
      "if it is not possible\n",
      "all is well\n"
     ]
    }
   ],
   "source": [
    "#if-else\n",
    "a,b,c,d=2,3,2,4\n",
    "if (a==b or c==d):\n",
    "    print(\"abc\")\n",
    "else:\n",
    "    print(\"if it is not possible\")\n",
    "print(\"all is well\")"
   ]
  },
  {
   "cell_type": "code",
   "execution_count": 12,
   "metadata": {},
   "outputs": [
    {
     "name": "stdout",
     "output_type": "stream",
     "text": [
      "negative\n"
     ]
    }
   ],
   "source": [
    "#if-elif-else\n",
    "x=10\n",
    "if x<0:\n",
    "    print(\"positive\")\n",
    "elif x==0:\n",
    "    print(\"zero\")\n",
    "else:\n",
    "    print(\"negative\")"
   ]
  },
  {
   "cell_type": "code",
   "execution_count": 13,
   "metadata": {},
   "outputs": [
    {
     "name": "stdout",
     "output_type": "stream",
     "text": [
      "Greater than 5\n",
      "Greater than 8\n",
      "Equal or less than 12\n"
     ]
    }
   ],
   "source": [
    "x = 10\n",
    "if x > 5:\n",
    "    print(\"Greater than 5\")\n",
    "if x > 8:\n",
    "    print(\"Greater than 8\")\n",
    "if x > 12:\n",
    "    print(\"Greater than 12\")\n",
    "else:\n",
    "    print(\"Equal or less than 12\")\n"
   ]
  },
  {
   "cell_type": "code",
   "execution_count": 2,
   "metadata": {},
   "outputs": [
    {
     "name": "stdout",
     "output_type": "stream",
     "text": [
      "Enter 1 for withdrawal\n",
      "Enter 2 for balance check\n",
      "Transaction successful\n"
     ]
    }
   ],
   "source": [
    "# nested if-else with error handling for pin input\n",
    "try:\n",
    "    pin = int(input(\"Enter the ATM pin number: \"))\n",
    "    balance = 10000\n",
    "    \n",
    "    if pin == 1234:\n",
    "        print(\"Enter 1 for withdrawal\")\n",
    "        print(\"Enter 2 for balance check\")\n",
    "        a = int(input(\"Please enter either 1 or 2: \"))\n",
    "        \n",
    "        if a == 1:\n",
    "            withdrawal = int(input(\"Enter the amount to withdraw: \"))\n",
    "            if withdrawal < balance:\n",
    "                print(\"Transaction successful\")\n",
    "            else:\n",
    "                print(\"Insufficient balance\")\n",
    "        elif a == 2:\n",
    "            print(\"Your present balance is:\", balance)\n",
    "        else:\n",
    "            print(\"Invalid entry\")\n",
    "    else:\n",
    "        print(\"Invalid pin\")\n",
    "except ValueError:\n",
    "    print(\"Invalid input. Please enter a valid number.\")\n"
   ]
  },
  {
   "cell_type": "markdown",
   "metadata": {},
   "source": [
    "### Continue Statements :\n",
    "\n",
    "When a Python interpreter sees a continue statement, it skips the present iteration's execution if the condition is satisfied. If the condition is not satisfied, it allows the implementation of the current iteration. It is employed to keep the program running even when it meets a break while being executed.\n",
    "\n",
    "### loops:\n",
    "There may be a situation when you need to execute a block of code several number of times\n",
    "loop == repeat the block of code\n",
    "\n",
    "### while loop\n",
    "repeat the block of code until the condition satisfied\n",
    "to iterate over a block of code as long as the condition is true"
   ]
  },
  {
   "cell_type": "code",
   "execution_count": 15,
   "metadata": {},
   "outputs": [
    {
     "name": "stdout",
     "output_type": "stream",
     "text": [
      "0 while loop\n",
      "1 while loop\n",
      "2 while loop\n",
      "3 while loop\n",
      "4 while loop\n"
     ]
    }
   ],
   "source": [
    "x=0\n",
    "while x<5:\n",
    "    print(x,\"while loop\")\n",
    "    x=x+1"
   ]
  },
  {
   "cell_type": "code",
   "execution_count": 16,
   "metadata": {},
   "outputs": [
    {
     "name": "stdout",
     "output_type": "stream",
     "text": [
      "[0, 1, 2, 3, 4, 5, 6, 7, 8, 9, 10, 11, 12, 13, 14, 15, 16, 17, 18, 19, 20, 21, 22, 23, 24, 25, 26, 27, 28, 29, 30, 31, 32, 33, 34, 35, 36, 37, 38, 39, 40, 41, 42, 43, 44, 45, 46, 47, 48, 49, 50, 51, 52, 53, 54, 55, 56, 57, 58, 59, 60, 61, 62, 63, 64, 65, 66, 67, 68, 69, 70, 71, 72, 73, 74, 75, 76, 77, 78, 79, 80, 81, 82, 83, 84, 85, 86, 87, 88, 89, 90, 91, 92, 93, 94, 95, 96, 97, 98, 99]\n"
     ]
    }
   ],
   "source": [
    "i=0\n",
    "list=[]\n",
    "while i<100:\n",
    "    list.append(i)\n",
    "    i=i+1\n",
    "print(list)"
   ]
  },
  {
   "cell_type": "code",
   "execution_count": 6,
   "metadata": {},
   "outputs": [
    {
     "name": "stdout",
     "output_type": "stream",
     "text": [
      "123\n",
      "1234\n",
      "234\n",
      "546\n",
      "567\n",
      "the sum is: 2704\n"
     ]
    }
   ],
   "source": [
    "x=1\n",
    "sum=0\n",
    "while x<=5:\n",
    "    i=int(input(\"enter the number:\"))\n",
    "    print(i)\n",
    "    sum+=i\n",
    "    x=x+1\n",
    "print(\"the sum is:\",sum)"
   ]
  },
  {
   "cell_type": "code",
   "execution_count": 5,
   "metadata": {},
   "outputs": [
    {
     "name": "stdout",
     "output_type": "stream",
     "text": [
      "after your entering are completed enter #\n",
      "12\n",
      "13\n",
      "#\n",
      "the total is 25\n"
     ]
    }
   ],
   "source": [
    "print(\"after your entering are completed enter #\")\n",
    "sum=0\n",
    "while True:\n",
    "    a = input(\"enter the number\")\n",
    "    print(a)\n",
    "    if a=='#':\n",
    "        break\n",
    "    sum=sum+int(a)\n",
    "print(\"the total is\", sum)"
   ]
  },
  {
   "cell_type": "markdown",
   "metadata": {},
   "source": [
    "1. loop---------: repeating the code\n",
    "1. while--------: till condition satisfies\n",
    "1. for----------: for each value in sequence\n",
    "1. for loop-----: for each value in sequence , repeating the sequence (str,list,tuple,set,range)"
   ]
  },
  {
   "cell_type": "code",
   "execution_count": 19,
   "metadata": {},
   "outputs": [
    {
     "name": "stdout",
     "output_type": "stream",
     "text": [
      "while 1\n",
      "while 2\n",
      "while 3\n",
      "while 4\n",
      "\n",
      "for 1\n",
      "for 2\n",
      "for 3\n",
      "for 4\n"
     ]
    }
   ],
   "source": [
    "# difference between while and for loop\n",
    "l=[1,2,3,4]\n",
    "i=1\n",
    "while i in l:\n",
    "    print(\"while\",i)\n",
    "    i=i+1\n",
    "print()\n",
    " \n",
    "l=[1,2,3,4]\n",
    "for i in l:\n",
    "    print(\"for\",i)\n",
    "\n",
    "\n"
   ]
  },
  {
   "cell_type": "code",
   "execution_count": 20,
   "metadata": {},
   "outputs": [
    {
     "name": "stdout",
     "output_type": "stream",
     "text": [
      "0\n",
      "1\n",
      "2\n",
      "3\n",
      "4\n",
      "j a i   s h r e e   r a d h a   k r i s h n a 123\n",
      "231\n",
      "343\n",
      "465\n"
     ]
    }
   ],
   "source": [
    "for i in range(5):\n",
    "    print(i)\n",
    "a=\"jai shree radha krishna\"\n",
    "for i in a:\n",
    "    print(i,end=\" \")\n",
    "t=(123,231,343,465)\n",
    "for i in t:\n",
    "    print(i)"
   ]
  },
  {
   "cell_type": "code",
   "execution_count": 21,
   "metadata": {},
   "outputs": [
    {
     "name": "stdout",
     "output_type": "stream",
     "text": [
      "[4, 14, 16]\n"
     ]
    }
   ],
   "source": [
    "l=[4,9,14,16,21,29,33]\n",
    "even_list=[]\n",
    "for i in l:\n",
    "    if i%2==0:\n",
    "        even_list.append(i)\n",
    "print(even_list)"
   ]
  },
  {
   "cell_type": "code",
   "execution_count": 7,
   "metadata": {},
   "outputs": [
    {
     "name": "stdout",
     "output_type": "stream",
     "text": [
      "15 * 1 = 15\n",
      "15 * 2 = 30\n",
      "15 * 3 = 45\n",
      "15 * 4 = 60\n",
      "15 * 5 = 75\n",
      "15 * 6 = 90\n",
      "15 * 7 = 105\n",
      "15 * 8 = 120\n",
      "15 * 9 = 135\n",
      "15 * 10 = 150\n",
      "15 * 11 = 165\n"
     ]
    }
   ],
   "source": [
    "n=int(input(\"which multiplication table you want:\"))\n",
    "s=int(input(\"enter from which number,you want to start\"))\n",
    "e=int(input(\"enter number,where you want to end\"))\n",
    "\n",
    "for i in range(s,e+1):\n",
    "    print(n,\"*\",i,\"=\",n*i)"
   ]
  },
  {
   "cell_type": "code",
   "execution_count": 8,
   "metadata": {},
   "outputs": [
    {
     "name": "stdout",
     "output_type": "stream",
     "text": [
      "sum 5\n"
     ]
    }
   ],
   "source": [
    "p=input(\"enter your phone number: \")\n",
    "sum=0\n",
    "for i in range(10):\n",
    "    sum=sum+int(p[i])\n",
    "    if sum>=10:\n",
    "        s=str(sum)\n",
    "        t=int(s[0])+int(s[1])\n",
    "        if t>=10:\n",
    "            s=str(t)\n",
    "            t=int(s[0])+int(s[1])\n",
    "print(\"sum\",t)\n",
    "        "
   ]
  },
  {
   "cell_type": "markdown",
   "metadata": {},
   "source": [
    "### break statements:\n",
    "if the execution a \"break\" statement, it immediately exits the \"while\" loops ."
   ]
  },
  {
   "cell_type": "markdown",
   "metadata": {},
   "source": [
    "using for loop draw ****"
   ]
  },
  {
   "cell_type": "code",
   "execution_count": 24,
   "metadata": {},
   "outputs": [
    {
     "name": "stdout",
     "output_type": "stream",
     "text": [
      "it will print,if break false to print\n",
      "it will print,if break false to print\n",
      "it will print,if break false to print\n",
      "it will print,if break false to print\n",
      "it will print,if break false to print\n"
     ]
    }
   ],
   "source": [
    "while True:\n",
    "    name = input('Please type your name: ')\n",
    "    if name == 'your name':\n",
    "        break\n",
    "        print(\"it will not print\")\n",
    "    else:\n",
    "        print(\"it will print,if break false to print\")\n",
    "print('when break statement is accepted it comes out of exicution then loop get stops , Thank you!')"
   ]
  },
  {
   "cell_type": "code",
   "execution_count": null,
   "metadata": {},
   "outputs": [],
   "source": []
  },
  {
   "cell_type": "code",
   "execution_count": null,
   "metadata": {},
   "outputs": [],
   "source": []
  },
  {
   "cell_type": "code",
   "execution_count": null,
   "metadata": {},
   "outputs": [],
   "source": []
  },
  {
   "cell_type": "code",
   "execution_count": null,
   "metadata": {},
   "outputs": [],
   "source": []
  },
  {
   "cell_type": "code",
   "execution_count": null,
   "metadata": {},
   "outputs": [],
   "source": []
  },
  {
   "cell_type": "code",
   "execution_count": null,
   "metadata": {},
   "outputs": [],
   "source": []
  },
  {
   "cell_type": "code",
   "execution_count": null,
   "metadata": {},
   "outputs": [],
   "source": []
  },
  {
   "cell_type": "code",
   "execution_count": null,
   "metadata": {},
   "outputs": [],
   "source": []
  },
  {
   "cell_type": "code",
   "execution_count": null,
   "metadata": {},
   "outputs": [],
   "source": []
  },
  {
   "cell_type": "code",
   "execution_count": null,
   "metadata": {},
   "outputs": [],
   "source": []
  }
 ],
 "metadata": {
  "kernelspec": {
   "display_name": "Python 3",
   "language": "python",
   "name": "python3"
  },
  "language_info": {
   "codemirror_mode": {
    "name": "ipython",
    "version": 3
   },
   "file_extension": ".py",
   "mimetype": "text/x-python",
   "name": "python",
   "nbconvert_exporter": "python",
   "pygments_lexer": "ipython3",
   "version": "3.13.0"
  }
 },
 "nbformat": 4,
 "nbformat_minor": 2
}
