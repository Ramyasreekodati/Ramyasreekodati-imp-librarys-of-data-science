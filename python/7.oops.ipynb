{
 "cells": [
  {
   "cell_type": "markdown",
   "metadata": {},
   "source": [
    "# what is mean by OOPs?\n",
    "\n",
    "Object-Oriented Programming (OOP) in Python is a programming paradigm that relies on the concept of \"objects.\" These objects can encapsulate data (attributes) and functions (methods) that operate on the data. Python's OOP principles are built around four main concepts: Encapsulation, Inheritance, Polymorphism, and Abstraction."
   ]
  },
  {
   "cell_type": "markdown",
   "metadata": {},
   "source": [
    "\n",
    "### Class\n",
    "A class in Python is a blueprint or template for creating objects. It defines the structure and behavior (data and methods) that the objects created from the class will have. A class itself doesn't hold data but describes how the data and methods should be organized."
   ]
  },
  {
   "cell_type": "code",
   "execution_count": null,
   "metadata": {},
   "outputs": [],
   "source": [
    "class ClassName:\n",
    "    # Attributes (data) and methods (functions) go here\n",
    "    pass\n"
   ]
  },
  {
   "cell_type": "markdown",
   "metadata": {},
   "source": [
    "\n",
    "### Object\n",
    "An object is an instance of a class. It is a concrete entity based on the class blueprint. Objects contain actual data and can use the methods defined in the class.\n"
   ]
  },
  {
   "cell_type": "markdown",
   "metadata": {},
   "source": [
    "### Analogy\n",
    "Think of a class as a blueprint for a house. The blueprint defines how the house will look (e.g., number of rooms, design), but it is not an actual house. An object is a specific house built using that blueprint. Each house (object) has its own walls, doors, and furniture (data), but they all follow the same design principles defined in the blueprint (class).\n",
    "\n"
   ]
  },
  {
   "cell_type": "code",
   "execution_count": 1,
   "metadata": {},
   "outputs": [
    {
     "name": "stdout",
     "output_type": "stream",
     "text": [
      "This car is a Red Toyota.\n",
      "This car is a Blue Honda.\n"
     ]
    }
   ],
   "source": [
    "# Define a Class\n",
    "class Car:\n",
    "    # Constructor to initialize object properties\n",
    "    def __init__(self, brand, color):\n",
    "        self.brand = brand  # Instance variable\n",
    "        self.color = color  # Instance variable\n",
    "\n",
    "    # Method to describe the car\n",
    "    def describe(self):\n",
    "        return f\"This car is a {self.color} {self.brand}.\"\n",
    "\n",
    "# Create Objects (Instances of the Class)\n",
    "car1 = Car(\"Toyota\", \"Red\")\n",
    "car2 = Car(\"Honda\", \"Blue\")\n",
    "\n",
    "# Access Object Data and Methods\n",
    "print(car1.describe())  # Output: This car is a Red Toyota.\n",
    "print(car2.describe())  # Output: This car is a Blue Honda.\n"
   ]
  },
  {
   "cell_type": "markdown",
   "metadata": {},
   "source": [
    "Key Points\n",
    "\n",
    "##### Class:\n",
    "\n",
    "Abstract concept (template/blueprint).\n",
    "\n",
    "Doesn't hold real data itself.\n",
    "\n",
    "Example: Car.\n",
    "##### Object:\n",
    "\n",
    "Concrete instance of a class.\n",
    "\n",
    "Contains real data and functionality.\n",
    "\n",
    "Example: car1 and car2 are objects of the class Car."
   ]
  },
  {
   "cell_type": "markdown",
   "metadata": {},
   "source": [
    "### Encapsulation\n",
    "Encapsulation is the process of bundling data (attributes) and methods (functions) into a single unit called a class. It restricts direct access to some components, which helps prevent accidental modification."
   ]
  },
  {
   "cell_type": "code",
   "execution_count": 2,
   "metadata": {},
   "outputs": [
    {
     "name": "stdout",
     "output_type": "stream",
     "text": [
      "Alice's salary is 50000\n",
      "Alice's salary is 60000\n"
     ]
    }
   ],
   "source": [
    "class Employee:\n",
    "    def __init__(self, name, salary):\n",
    "        self.name = name            # Public attribute\n",
    "        self.__salary = salary      # Private attribute (denoted by __)\n",
    "\n",
    "    def show_salary(self):\n",
    "        return f\"{self.name}'s salary is {self.__salary}\"\n",
    "\n",
    "    def update_salary(self, new_salary):\n",
    "        if new_salary > 0:\n",
    "            self.__salary = new_salary\n",
    "        else:\n",
    "            print(\"Invalid salary!\")\n",
    "\n",
    "# Usage\n",
    "emp = Employee(\"Alice\", 50000)\n",
    "print(emp.show_salary())\n",
    "emp.update_salary(60000)\n",
    "print(emp.show_salary())\n",
    "# Trying to access private attribute directly\n",
    "# print(emp.__salary)  # AttributeError\n"
   ]
  },
  {
   "cell_type": "markdown",
   "metadata": {},
   "source": [
    "### Inheritance\n",
    "Inheritance allows a class (child class) to inherit attributes and methods from another class (parent class). This promotes code reusability."
   ]
  },
  {
   "cell_type": "code",
   "execution_count": 3,
   "metadata": {},
   "outputs": [
    {
     "name": "stdout",
     "output_type": "stream",
     "text": [
      "Buddy says Woof!\n",
      "Whiskers says Meow!\n"
     ]
    }
   ],
   "source": [
    "class Animal:\n",
    "    def __init__(self, name):\n",
    "        self.name = name\n",
    "\n",
    "    def speak(self):\n",
    "        return \"I make a sound.\"\n",
    "\n",
    "class Dog(Animal):  # Dog inherits from Animal\n",
    "    def speak(self):\n",
    "        return f\"{self.name} says Woof!\"\n",
    "\n",
    "class Cat(Animal):  # Cat inherits from Animal\n",
    "    def speak(self):\n",
    "        return f\"{self.name} says Meow!\"\n",
    "\n",
    "# Usage\n",
    "dog = Dog(\"Buddy\")\n",
    "cat = Cat(\"Whiskers\")\n",
    "print(dog.speak())\n",
    "print(cat.speak())\n"
   ]
  },
  {
   "cell_type": "markdown",
   "metadata": {},
   "source": [
    "### Polymorphism\n",
    "Polymorphism allows different classes to use methods with the same name but different implementations. It simplifies code as a single interface can work with various types."
   ]
  },
  {
   "cell_type": "code",
   "execution_count": 4,
   "metadata": {},
   "outputs": [
    {
     "name": "stdout",
     "output_type": "stream",
     "text": [
      "Birds can fly.\n",
      "Ostriches cannot fly.\n"
     ]
    }
   ],
   "source": [
    "class Bird:\n",
    "    def fly(self):\n",
    "        return \"Birds can fly.\"\n",
    "\n",
    "class Ostrich(Bird):\n",
    "    def fly(self):\n",
    "        return \"Ostriches cannot fly.\"\n",
    "\n",
    "# Usage\n",
    "def flight_ability(bird):\n",
    "    print(bird.fly())\n",
    "\n",
    "sparrow = Bird()\n",
    "ostrich = Ostrich()\n",
    "\n",
    "flight_ability(sparrow)\n",
    "flight_ability(ostrich)\n"
   ]
  },
  {
   "cell_type": "markdown",
   "metadata": {},
   "source": [
    "### Abstraction\n",
    "Abstraction hides the implementation details and exposes only the necessary functionality. In Python, abstract classes are defined using the abc module."
   ]
  },
  {
   "cell_type": "code",
   "execution_count": 5,
   "metadata": {},
   "outputs": [
    {
     "name": "stdout",
     "output_type": "stream",
     "text": [
      "Area: 20\n",
      "Perimeter: 18\n"
     ]
    }
   ],
   "source": [
    "from abc import ABC, abstractmethod\n",
    "\n",
    "class Shape(ABC):\n",
    "    @abstractmethod\n",
    "    def area(self):\n",
    "        pass\n",
    "\n",
    "    @abstractmethod\n",
    "    def perimeter(self):\n",
    "        pass\n",
    "\n",
    "class Rectangle(Shape):\n",
    "    def __init__(self, width, height):\n",
    "        self.width = width\n",
    "        self.height = height\n",
    "\n",
    "    def area(self):\n",
    "        return self.width * self.height\n",
    "\n",
    "    def perimeter(self):\n",
    "        return 2 * (self.width + self.height)\n",
    "\n",
    "# Usage\n",
    "rect = Rectangle(4, 5)\n",
    "print(f\"Area: {rect.area()}\")\n",
    "print(f\"Perimeter: {rect.perimeter()}\")\n"
   ]
  }
 ],
 "metadata": {
  "kernelspec": {
   "display_name": "Python 3",
   "language": "python",
   "name": "python3"
  },
  "language_info": {
   "codemirror_mode": {
    "name": "ipython",
    "version": 3
   },
   "file_extension": ".py",
   "mimetype": "text/x-python",
   "name": "python",
   "nbconvert_exporter": "python",
   "pygments_lexer": "ipython3",
   "version": "3.13.0"
  }
 },
 "nbformat": 4,
 "nbformat_minor": 2
}
