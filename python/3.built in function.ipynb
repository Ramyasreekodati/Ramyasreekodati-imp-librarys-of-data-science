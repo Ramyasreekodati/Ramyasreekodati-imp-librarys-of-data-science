{
 "cells": [
  {
   "cell_type": "markdown",
   "metadata": {},
   "source": [
    "Function\tDescription\n",
    "1. abs()\t        Return the absolute value of a number.\n",
    "2. aiter()\t        Return an asynchronous iterator for an asynchronous iterable.\n",
    "3. all()\t        Return True if all elements of the iterable are true.\n",
    "4. any()\t        Return True if any element of the iterable is true.\n",
    "5. ascii()\t        Return a string with a printable representation of an object.\n",
    "6. bin()\t        Convert an integer number to a binary string.\n",
    "7. bool()\t        Return a Boolean value.\n",
    "8. breakpoint()\tDrops you into the debugger at the call site.\n",
    "9. bytearray()\t    Return a new array of bytes.\n",
    "10. bytes()\t        Return a new “bytes” object.\n",
    "11. callable()\t    Return True if the object argument is callable, False if not.\n",
    "12. chr()\t        Return the string representing a character.\n",
    "13. classmethod()\tTransform a method into a class method.\n",
    "14. compile()\t    Compile the source into a code or AST object.\n",
    "15. complex()\t    Return a complex number with the value real + imag*1j.\n",
    "16. delattr()\t    Deletes the named attribute, provided the object allows it.\n",
    "17. dict()      \tCreate a new dictionary.\n",
    "18. dir()       \tReturn the list of names in the current local scope.\n",
    "19. divmod()\t    Return a pair of numbers consisting of their quotient and remainder.\n",
    "20. enumerate()\t    Return an enumerate object.\n",
    "21. eval()\t        Evaluates and executes an expression.\n",
    "22. exec()\t        This function supports dynamic execution of Python code.\n",
    "23. filter()\t    Construct an iterator from an iterable and returns true.\n",
    "24. float()     \tReturn a floating point number from a number or string.\n",
    "25. format()\t    Convert a value to a “formatted” representation.\n",
    "26. frozenset()\t    Return a new frozenset object.\n",
    "27. getattr()\t    Return the value of the named attribute of object.\n",
    "28. globals()\t    Return the dictionary implementing the current module namespace.\n",
    "29. hasattr()\t    True if the string is the name of one of the object’s attributes.\n",
    "30. hash()\t        Return the hash value of the object.\n",
    "31. help()\t        Invoke the built-in help system.\n",
    "32. hex()\t        Convert an integer number to a lowercase hexadecimal string.\n",
    "33. id()\t        Return the “identity” of an object.\n",
    "34. input()\t        This function takes an input and converts it into a string.\n",
    "35. int()\t        Return an integer object constructed from a number or string.\n",
    "36. isinstance()\tReturn True if the object argument is an instance of an object.\n",
    "37. issubclass()\tReturn True if class is a subclass of classinfo.\n",
    "38. iter()\t        Return an iterator object.\n",
    "39. len()\t        Return the length (the number of items) of an object.\n",
    "40. list()\t        Rather than being a function, list is a mutable sequence type.\n",
    "41. locals()\t    Update and return a dictionary with the current local symbol table.\n",
    "42. map()\t        Return an iterator that applies function to every item of iterable.\n",
    "43. max()\t        Return the largest item in an iterable.\n",
    "44. min()\t        Return the smallest item in an iterable.\n",
    "45. next()\t        Retrieve the next item from the iterator.\n",
    "46. object()\t    Return a new featureless object.\n",
    "47. oct()\t        Convert an integer number to an octal string.\n",
    "48. open()\t        Open file and return a corresponding file object.\n",
    "49. ord()\t        Return an integer representing the Unicode code point of a character.\n",
    "50. pow()\t        Return base to the power exp.\n",
    "51. print()\t        Print objects to the text stream file.\n",
    "52. property()\t    Return a property attribute.\n",
    "53. repr()\t        Return a string containing a printable representation of an object.\n",
    "54. reversed()\t    Return a reverse iterator.\n",
    "55. round()\t        Return number rounded to ndigits precision after the decimal point.\n",
    "56. set()\t        Return a new set object.\n",
    "57. setattr()\t    This is the counterpart of getattr().\n",
    "58. slice()\t        Return a sliced object representing a set of indices.\n",
    "59. sorted()\t    Return a new sorted list from the items in iterable.\n",
    "60. staticmethod()\tTransform a method into a static method.\n",
    "61. str()\t        Return a str version of object.\n",
    "62. sum()\t        Sums start and the items of an iterable.\n",
    "63. super()\t        Return a proxy object that delegates method calls to a parent or sibling.\n",
    "64. tuple()\t        Rather than being a function, is actually an immutable sequence type.\n",
    "65. type()\t        Return the type of an object.\n",
    "66. vars()\t        Return the dict attribute for any other object with a dict attribute.\n",
    "67. zip()\t        Iterate over several iterables in parallel.\n",
    "68. import()\t    This function is invoked by the import statement."
   ]
  },
  {
   "cell_type": "code",
   "execution_count": 1,
   "metadata": {},
   "outputs": [
    {
     "name": "stdout",
     "output_type": "stream",
     "text": [
      "400\n"
     ]
    }
   ],
   "source": [
    "#abs()\n",
    "number = -400\n",
    "\"\"\" The abs() function returns the absolute value of the given number. If the number is a complex number, abs() returns its magnitude. \"\"\"\n",
    "\n",
    "absolute_number = abs(number)\n",
    "print(absolute_number)\n"
   ]
  },
  {
   "cell_type": "code",
   "execution_count": 2,
   "metadata": {},
   "outputs": [],
   "source": [
    "#aiter()\n"
   ]
  },
  {
   "cell_type": "code",
   "execution_count": 3,
   "metadata": {},
   "outputs": [
    {
     "name": "stdout",
     "output_type": "stream",
     "text": [
      "False\n",
      "True\n",
      "False\n",
      "True\n",
      "True\n"
     ]
    }
   ],
   "source": [
    "#all()\n",
    "\"\"\"The all() function returns True if all elements in the given iterable are truthy. If not, it returns False.\"\"\"\n",
    "\n",
    "s = {0: 'False', 1: 'False'}\n",
    "print(all(s))\n",
    "\n",
    "s = {1: 'True', 2: 'True'}\n",
    "print(all(s))\n",
    "\n",
    "s = {1: 'True', False: 0}\n",
    "print(all(s))\n",
    "\n",
    "s = {}\n",
    "print(all(s))\n",
    "\n",
    "# 0 is False\n",
    "# '0' is True\n",
    "s = {'0': 'True'}\n",
    "print(all(s))"
   ]
  },
  {
   "cell_type": "code",
   "execution_count": 4,
   "metadata": {},
   "outputs": [],
   "source": [
    "import numpy as np"
   ]
  },
  {
   "cell_type": "code",
   "execution_count": 5,
   "metadata": {},
   "outputs": [
    {
     "name": "stdout",
     "output_type": "stream",
     "text": [
      "False\n",
      "True\n",
      "False\n",
      "False\n",
      "True\n"
     ]
    }
   ],
   "source": [
    "#any()\n",
    "\"\"\"\"The any() function returns True if any element of an iterable is True. If not, it returns False.\"\"\"\n",
    "\n",
    "# 0 is False\n",
    "d = {0: 'False'}\n",
    "print(any(d))\n",
    "\n",
    "# 1 is True\n",
    "d = {0: 'False', 1: 'True'}\n",
    "print(any(d))\n",
    "\n",
    "# 0 and False are false\n",
    "d = {0: 'False', False: 0}\n",
    "print(any(d))\n",
    "\n",
    "# iterable is empty\n",
    "d = {}\n",
    "print(any(d))\n",
    "\n",
    "# 0 is False\n",
    "# '0' is True\n",
    "d = {'0': 'False'}\n",
    "print(any(d))"
   ]
  },
  {
   "cell_type": "code",
   "execution_count": 6,
   "metadata": {},
   "outputs": [
    {
     "name": "stdout",
     "output_type": "stream",
     "text": [
      "('\\xf6', '\\u221a', '\\xb6', '\\xd0', '\\xdf')\n"
     ]
    }
   ],
   "source": [
    "#ascii()\n",
    "\"\"\"The ascii() method replaces a non-printable character with its corresponding ascii value and returns it.\"\"\"\n",
    "\n",
    "tuple = ('ö', '√', '¶','Ð','ß' )\n",
    "\n",
    "# ascii() with a tuple\n",
    "print(ascii(tuple))"
   ]
  },
  {
   "cell_type": "code",
   "execution_count": 7,
   "metadata": {},
   "outputs": [
    {
     "name": "stdout",
     "output_type": "stream",
     "text": [
      "The binary equivalent of quantity is: 0b101\n"
     ]
    }
   ],
   "source": [
    "#bin()\n",
    "\"\"\"The bin() method converts a specified integer number to its binary representation and returns it.\"\"\"\n",
    "\n",
    "class Quantity:\n",
    "    apple = 1\n",
    "    orange = 2\n",
    "    grapes = 2\n",
    "    \n",
    "    def __index__(self):\n",
    "        return self.apple + self.orange + self.grapes\n",
    "        \n",
    "print('The binary equivalent of quantity is:', bin(Quantity()))"
   ]
  },
  {
   "cell_type": "code",
   "execution_count": 8,
   "metadata": {},
   "outputs": [
    {
     "name": "stdout",
     "output_type": "stream",
     "text": [
      "[] is False\n",
      "0 is False\n",
      "None is False\n",
      "False is False\n"
     ]
    }
   ],
   "source": [
    "#bool()\n",
    "\"\"\"The bool() method takes a specified argument and returns its boolean value.\"\"\"\n",
    "\n",
    "test = []\n",
    "# bool() with an empty argument\n",
    "print(test, 'is' ,bool(test))\n",
    "\n",
    "test1 = 0\n",
    "# bool() with zero\n",
    "print(test1, 'is' ,bool(test1))\n",
    "\n",
    "test2 = None\n",
    "# bool() with none\n",
    "print(test2, 'is' ,bool(test2))\n",
    "\n",
    "test3 = False\n",
    "# bool() with False\n",
    "print(test3, 'is' ,bool(test3))"
   ]
  },
  {
   "cell_type": "code",
   "execution_count": 9,
   "metadata": {},
   "outputs": [],
   "source": [
    "#breakpoint()"
   ]
  },
  {
   "cell_type": "code",
   "execution_count": 10,
   "metadata": {},
   "outputs": [
    {
     "name": "stdout",
     "output_type": "stream",
     "text": [
      "bytearray(b'\\x01\\x02\\x03\\x04\\x05')\n"
     ]
    }
   ],
   "source": [
    "#bitearray()\n",
    "\"\"\"The bytearray() method returns a bytearray object which is an array of the given bytes.\"\"\"\n",
    "\n",
    "rList = [1, 2, 3, 4, 5]\n",
    "\n",
    "arr = bytearray(rList)\n",
    "print(arr)"
   ]
  },
  {
   "cell_type": "code",
   "execution_count": 11,
   "metadata": {},
   "outputs": [
    {
     "name": "stdout",
     "output_type": "stream",
     "text": [
      "b'\\x01\\x02\\x03\\x04\\x05'\n"
     ]
    }
   ],
   "source": [
    "#bytes()\n",
    "\"\"\"The bytes() method returns an immutable bytes object initialized with the given size and data.\"\"\"\n",
    "\n",
    "rList = [1, 2, 3, 4, 5]\n",
    "\n",
    "arr = bytes(rList)\n",
    "print(arr)"
   ]
  },
  {
   "cell_type": "code",
   "execution_count": 12,
   "metadata": {},
   "outputs": [
    {
     "name": "stdout",
     "output_type": "stream",
     "text": [
      "True\n"
     ]
    },
    {
     "ename": "TypeError",
     "evalue": "'Foo' object is not callable",
     "output_type": "error",
     "traceback": [
      "\u001b[1;31m---------------------------------------------------------------------------\u001b[0m",
      "\u001b[1;31mTypeError\u001b[0m                                 Traceback (most recent call last)",
      "Cell \u001b[1;32mIn[12], line 13\u001b[0m\n\u001b[0;32m     10\u001b[0m InstanceOfFoo \u001b[38;5;241m=\u001b[39m Foo()\n\u001b[0;32m     11\u001b[0m \u001b[38;5;66;03m# Raises an Error\u001b[39;00m\n\u001b[0;32m     12\u001b[0m \u001b[38;5;66;03m# 'Foo' object is not callable\u001b[39;00m\n\u001b[1;32m---> 13\u001b[0m \u001b[43mInstanceOfFoo\u001b[49m\u001b[43m(\u001b[49m\u001b[43m)\u001b[49m  \u001b[38;5;66;03m# error occurs because instances of Foo are not callable\u001b[39;00m\n",
      "\u001b[1;31mTypeError\u001b[0m: 'Foo' object is not callable"
     ]
    }
   ],
   "source": [
    "#callable()\n",
    "\"\"\"callable() method returns: True - if the object appears callable. False - if the object is not callable.\"\"\"\n",
    "\n",
    "class Foo:\n",
    "  def printLine(self):\n",
    "    print('Print Something')\n",
    "\n",
    "print(callable(Foo))  # still returns True because Foo is a class (classes are callable)\n",
    "\n",
    "InstanceOfFoo = Foo()\n",
    "# Raises an Error\n",
    "# 'Foo' object is not callable\n",
    "InstanceOfFoo()  # error occurs because instances of Foo are not callable"
   ]
  },
  {
   "cell_type": "code",
   "execution_count": 17,
   "metadata": {},
   "outputs": [
    {
     "ename": "TypeError",
     "evalue": "'str' object cannot be interpreted as an integer",
     "output_type": "error",
     "traceback": [
      "\u001b[1;31m---------------------------------------------------------------------------\u001b[0m",
      "\u001b[1;31mTypeError\u001b[0m                                 Traceback (most recent call last)",
      "Cell \u001b[1;32mIn[17], line 4\u001b[0m\n\u001b[0;32m      1\u001b[0m \u001b[38;5;66;03m#chr()\u001b[39;00m\n\u001b[0;32m      2\u001b[0m \u001b[38;5;124;03m\"\"\"The chr() method converts an integer to its unicode character and returns it.\"\"\"\u001b[39;00m\n\u001b[1;32m----> 4\u001b[0m \u001b[38;5;28mprint\u001b[39m(\u001b[38;5;28;43mchr\u001b[39;49m\u001b[43m(\u001b[49m\u001b[38;5;124;43m'\u001b[39;49m\u001b[38;5;124;43mRonald\u001b[39;49m\u001b[38;5;124;43m'\u001b[39;49m\u001b[43m)\u001b[49m)\n\u001b[0;32m      5\u001b[0m \u001b[38;5;28mprint\u001b[39m(\u001b[38;5;28mchr\u001b[39m(\u001b[38;5;124m'\u001b[39m\u001b[38;5;124mLupin\u001b[39m\u001b[38;5;124m'\u001b[39m))\n",
      "\u001b[1;31mTypeError\u001b[0m: 'str' object cannot be interpreted as an integer"
     ]
    }
   ],
   "source": [
    "#chr()\n",
    "\"\"\"The chr() method converts an integer to its unicode character and returns it.\"\"\"\n",
    "\n",
    "print(chr('Ronald'))\n",
    "print(chr('Lupin'))"
   ]
  },
  {
   "cell_type": "code",
   "execution_count": 15,
   "metadata": {},
   "outputs": [
    {
     "name": "stdout",
     "output_type": "stream",
     "text": [
      "a\n",
      "A\n",
      "Ұ\n"
     ]
    }
   ],
   "source": [
    "#chr()\n",
    "\"\"\"2nd example\"\"\"\n",
    "print(chr(97))\n",
    "print(chr(65))\n",
    "print(chr(1200))"
   ]
  },
  {
   "cell_type": "code",
   "execution_count": 16,
   "metadata": {},
   "outputs": [
    {
     "name": "stdout",
     "output_type": "stream",
     "text": [
      "True\n",
      "False\n"
     ]
    }
   ],
   "source": [
    "#classmethod()\n",
    "\"\"\"The classmethod() method returns a class method for the given function.\"\"\"\n",
    "\n",
    "from datetime import date\n",
    "\n",
    "# random Person\n",
    "class Person:\n",
    "    def __init__(self, name, age):\n",
    "        self.name = name\n",
    "        self.age = age\n",
    "\n",
    "    @staticmethod\n",
    "    def fromFathersAge(name, fatherAge, fatherPersonAgeDiff):\n",
    "        return Person(name, date.today().year - fatherAge + fatherPersonAgeDiff)\n",
    "\n",
    "    @classmethod\n",
    "    def fromBirthYear(cls, name, birthYear):\n",
    "        return cls(name, date.today().year - birthYear)\n",
    "\n",
    "    def display(self):\n",
    "        print(self.name + \"'s age is: \" + str(self.age))\n",
    "\n",
    "class Man(Person):\n",
    "    sex = 'Male'\n",
    "\n",
    "man = Man.fromBirthYear('John', 1985)\n",
    "print(isinstance(man, Man))\n",
    "\n",
    "man1 = Man.fromFathersAge('John', 1965, 20)\n",
    "print(isinstance(man1, Man))"
   ]
  },
  {
   "cell_type": "code",
   "execution_count": 13,
   "metadata": {},
   "outputs": [
    {
     "name": "stdout",
     "output_type": "stream",
     "text": [
      "mul = 30\n"
     ]
    }
   ],
   "source": [
    "#compile()\n",
    "\"\"\"The compile() method computes the Python code from a source object and returns it.\"\"\"\n",
    "\n",
    "codeInString = 'a = 5\\nb=6\\nmul=a*b\\nprint(\"mul =\",mul)'\n",
    "codeObject = compile(codeInString, 'multiplyNumbers', 'exec')\n",
    "\n",
    "exec(codeObject)\n",
    "\n",
    "# Output: mul = 30"
   ]
  },
  {
   "cell_type": "code",
   "execution_count": 14,
   "metadata": {},
   "outputs": [
    {
     "name": "stdout",
     "output_type": "stream",
     "text": [
      "a = (2+3j)\n",
      "Type of a is <class 'complex'>\n",
      "b = (-0-2j)\n",
      "Type of b is <class 'complex'>\n",
      "c = 0j\n",
      "Type of c is <class 'complex'>\n"
     ]
    }
   ],
   "source": [
    "#complex()\n",
    "\"\"\"The complex() will return a complex number when the function is called. If the syntax of the complex() is not followed, and the number is not a valid complex number then a ValueError exception is thrown. If the user is passing a string to the complex() it should be in the form of real+imagj or real+imagJ.\"\"\"\n",
    "\n",
    "a = 2+3j\n",
    "print('a =',a)\n",
    "print('Type of a is',type(a))\n",
    "\n",
    "b = -2j\n",
    "print('b =',b)\n",
    "print('Type of b is',type(a))\n",
    "\n",
    "c = 0j\n",
    "print('c =',c)\n",
    "print('Type of c is',type(c))"
   ]
  },
  {
   "cell_type": "code",
   "execution_count": 15,
   "metadata": {},
   "outputs": [
    {
     "name": "stdout",
     "output_type": "stream",
     "text": [
      "x =  10\n",
      "y =  -5\n",
      "z =  0\n",
      "--After deleting z attribute--\n",
      "x =  10\n",
      "y =  -5\n"
     ]
    },
    {
     "ename": "AttributeError",
     "evalue": "'Coordinate' object has no attribute 'z'",
     "output_type": "error",
     "traceback": [
      "\u001b[1;31m---------------------------------------------------------------------------\u001b[0m",
      "\u001b[1;31mAttributeError\u001b[0m                            Traceback (most recent call last)",
      "Cell \u001b[1;32mIn[15], line 22\u001b[0m\n\u001b[0;32m     19\u001b[0m \u001b[38;5;28mprint\u001b[39m(\u001b[38;5;124m'\u001b[39m\u001b[38;5;124my = \u001b[39m\u001b[38;5;124m'\u001b[39m,point1\u001b[38;5;241m.\u001b[39my)\n\u001b[0;32m     21\u001b[0m \u001b[38;5;66;03m# Raises Error\u001b[39;00m\n\u001b[1;32m---> 22\u001b[0m \u001b[38;5;28mprint\u001b[39m(\u001b[38;5;124m'\u001b[39m\u001b[38;5;124mz = \u001b[39m\u001b[38;5;124m'\u001b[39m,\u001b[43mpoint1\u001b[49m\u001b[38;5;241;43m.\u001b[39;49m\u001b[43mz\u001b[49m)\n",
      "\u001b[1;31mAttributeError\u001b[0m: 'Coordinate' object has no attribute 'z'"
     ]
    }
   ],
   "source": [
    "#delattr()\n",
    "\"\"\"The Python delattr () function does not return any value. This is because it deletes the attribute that was passed in it. The removal of the object will happen only in the case if the object allows it.\"\"\"\n",
    "\n",
    "class Coordinate:\n",
    "  x = 10\n",
    "  y = -5\n",
    "  z = 0\n",
    "\n",
    "point1 = Coordinate() \n",
    "\n",
    "print('x = ',point1.x)\n",
    "print('y = ',point1.y)\n",
    "print('z = ',point1.z)\n",
    "\n",
    "delattr(Coordinate, 'z')\n",
    "\n",
    "print('--After deleting z attribute--')\n",
    "print('x = ',point1.x)\n",
    "print('y = ',point1.y)\n",
    "\n",
    "# Raises Error\n",
    "print('z = ',point1.z)"
   ]
  },
  {
   "cell_type": "code",
   "execution_count": 16,
   "metadata": {},
   "outputs": [
    {
     "name": "stdout",
     "output_type": "stream",
     "text": [
      "numbers1 = {'x': 4, 'y': 5}\n",
      "numbers2 = {'x': 4, 'y': 5}\n",
      "numbers3 = {'x': 4, 'y': 5, 'z': 8}\n"
     ]
    }
   ],
   "source": [
    "#dict()\n",
    "\"\"\"A keyword argument is an argument preceded by an identifier (eg. name=). Hence, the keyword argument of the form kwarg=value is passed to dict() constructor to create dictionaries.\n",
    "\n",
    "dict() doesn't return any value (returns None).\"\"\"\n",
    "\n",
    "numbers1 = dict({'x': 4, 'y': 5})\n",
    "print('numbers1 =',numbers1)\n",
    "\n",
    "# you don't need to use dict() in above code\n",
    "numbers2 = {'x': 4, 'y': 5}\n",
    "print('numbers2 =',numbers2)\n",
    "\n",
    "# keyword argument is also passed\n",
    "numbers3 = dict({'x': 4, 'y': 5}, z=8)\n",
    "print('numbers3 =',numbers3)"
   ]
  },
  {
   "cell_type": "code",
   "execution_count": 17,
   "metadata": {},
   "outputs": [
    {
     "name": "stdout",
     "output_type": "stream",
     "text": [
      "['age', 'name', 'salary']\n"
     ]
    }
   ],
   "source": [
    "#dir()\n",
    "\"\"\"The dir() method returns the list of valid attributes of the passed object.\"\"\"\n",
    "\n",
    "class Person:\n",
    "  def __dir__(self):\n",
    "    return ['age', 'name', 'salary']    \n",
    "\n",
    "teacher = Person()\n",
    "print(dir(teacher))"
   ]
  },
  {
   "cell_type": "code",
   "execution_count": 18,
   "metadata": {},
   "outputs": [],
   "source": [
    "import numpy as np"
   ]
  },
  {
   "cell_type": "code",
   "execution_count": null,
   "metadata": {},
   "outputs": [],
   "source": []
  },
  {
   "cell_type": "code",
   "execution_count": null,
   "metadata": {},
   "outputs": [],
   "source": []
  },
  {
   "cell_type": "code",
   "execution_count": null,
   "metadata": {},
   "outputs": [],
   "source": []
  }
 ],
 "metadata": {
  "kernelspec": {
   "display_name": "Python 3",
   "language": "python",
   "name": "python3"
  },
  "language_info": {
   "codemirror_mode": {
    "name": "ipython",
    "version": 3
   },
   "file_extension": ".py",
   "mimetype": "text/x-python",
   "name": "python",
   "nbconvert_exporter": "python",
   "pygments_lexer": "ipython3",
   "version": "3.11.5"
  }
 },
 "nbformat": 4,
 "nbformat_minor": 2
}
