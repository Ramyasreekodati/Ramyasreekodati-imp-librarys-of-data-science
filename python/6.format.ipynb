{
 "cells": [
  {
   "cell_type": "code",
   "execution_count": 5,
   "metadata": {},
   "outputs": [],
   "source": [
    "person={\"name\":\"apply\",\"age\":24}\n"
   ]
  },
  {
   "cell_type": "code",
   "execution_count": 6,
   "metadata": {},
   "outputs": [
    {
     "name": "stdout",
     "output_type": "stream",
     "text": [
      " My name is apply. My age is  24\n"
     ]
    }
   ],
   "source": [
    "sentence=\" My name is \" + person[\"name\"] + \". My age is  \" + str(person[\"age\"])\n",
    "print(sentence)"
   ]
  },
  {
   "cell_type": "code",
   "execution_count": 8,
   "metadata": {},
   "outputs": [
    {
     "data": {
      "text/plain": [
       "'my name is apply and  i am 24 years old .'"
      ]
     },
     "execution_count": 8,
     "metadata": {},
     "output_type": "execute_result"
    }
   ],
   "source": [
    "sentance=\"my name is {} and  i am {} years old .\".format(person[\"name\"],person[\"age\"])\n",
    "sentance"
   ]
  },
  {
   "cell_type": "code",
   "execution_count": 30,
   "metadata": {},
   "outputs": [
    {
     "data": {
      "text/plain": [
       "'my name is apply and  i am 24 years old .'"
      ]
     },
     "execution_count": 30,
     "metadata": {},
     "output_type": "execute_result"
    }
   ],
   "source": [
    "sentance=\"my name is {name} and  i am {age} years old .\".format(**person)\n",
    "sentance"
   ]
  },
  {
   "cell_type": "code",
   "execution_count": 31,
   "metadata": {},
   "outputs": [
    {
     "data": {
      "text/plain": [
       "'my name is radha and  i am 21 years old .'"
      ]
     },
     "execution_count": 31,
     "metadata": {},
     "output_type": "execute_result"
    }
   ],
   "source": [
    "sentance=\"my name is {name} and  i am {age} years old .\".format(name=\"radha\",age=21)\n",
    "sentance"
   ]
  },
  {
   "cell_type": "markdown",
   "metadata": {},
   "source": [
    "### place orders for values"
   ]
  },
  {
   "cell_type": "code",
   "execution_count": 9,
   "metadata": {},
   "outputs": [
    {
     "data": {
      "text/plain": [
       "'my name is apply and  i am 24 years old .'"
      ]
     },
     "execution_count": 9,
     "metadata": {},
     "output_type": "execute_result"
    }
   ],
   "source": [
    "sentance=\"my name is {0} and  i am {1} years old .\".format(person[\"name\"],person[\"age\"])\n",
    "sentance"
   ]
  },
  {
   "cell_type": "code",
   "execution_count": 10,
   "metadata": {},
   "outputs": [
    {
     "data": {
      "text/plain": [
       "'my name is 24 and  i am apply years old .'"
      ]
     },
     "execution_count": 10,
     "metadata": {},
     "output_type": "execute_result"
    }
   ],
   "source": [
    "sentance=\"my name is {1} and  i am {0} years old .\".format(person[\"name\"],person[\"age\"])\n",
    "sentance"
   ]
  },
  {
   "cell_type": "code",
   "execution_count": 21,
   "metadata": {},
   "outputs": [
    {
     "data": {
      "text/plain": [
       "'my name is apply and  i am 24 years old .'"
      ]
     },
     "execution_count": 21,
     "metadata": {},
     "output_type": "execute_result"
    }
   ],
   "source": [
    "sentance=\"my name is {1[name]} and  i am {0[age]} years old .\".format(person,person)\n",
    "sentance"
   ]
  },
  {
   "cell_type": "code",
   "execution_count": 20,
   "metadata": {},
   "outputs": [
    {
     "data": {
      "text/plain": [
       "'my name is apply and  i am 24 years old .'"
      ]
     },
     "execution_count": 20,
     "metadata": {},
     "output_type": "execute_result"
    }
   ],
   "source": [
    "sentance=\"my name is {0[name]} and  i am {0[age]} years old .\".format(person)\n",
    "sentance"
   ]
  },
  {
   "cell_type": "code",
   "execution_count": 23,
   "metadata": {},
   "outputs": [
    {
     "data": {
      "text/plain": [
       "'my name is Krishna and  i am 21 years old .'"
      ]
     },
     "execution_count": 23,
     "metadata": {},
     "output_type": "execute_result"
    }
   ],
   "source": [
    "let=[\"Krishna\",\"21\"]\n",
    "sentance=\"my name is {0[0]} and  i am {0[1]} years old .\".format(let)\n",
    "sentance"
   ]
  },
  {
   "cell_type": "code",
   "execution_count": 17,
   "metadata": {},
   "outputs": [
    {
     "data": {
      "text/plain": [
       "'<h1> This is a headline </h1>'"
      ]
     },
     "execution_count": 17,
     "metadata": {},
     "output_type": "execute_result"
    }
   ],
   "source": [
    "tag=\"h1\"\n",
    "text =\"This is a headline\"\n",
    "sentance=\"<{0}> {1} </{0}>\".format(tag,text)\n",
    "sentance"
   ]
  },
  {
   "cell_type": "code",
   "execution_count": 28,
   "metadata": {},
   "outputs": [
    {
     "data": {
      "text/plain": [
       "'my name is krishna and  i am 24 years old .'"
      ]
     },
     "execution_count": 28,
     "metadata": {},
     "output_type": "execute_result"
    }
   ],
   "source": [
    "class Person():\n",
    "    def __init__(self,name,age):\n",
    "        self.name=name\n",
    "        self.age=age\n",
    "person1=Person(\"krishna\",24)\n",
    "sentance=\"my name is {0.name} and  i am {0.age} years old .\".format(person1)\n",
    "sentance"
   ]
  },
  {
   "cell_type": "markdown",
   "metadata": {},
   "source": [
    "# formatting"
   ]
  },
  {
   "cell_type": "code",
   "execution_count": 50,
   "metadata": {},
   "outputs": [
    {
     "data": {
      "text/plain": [
       "'pi is equal to 3.142'"
      ]
     },
     "execution_count": 50,
     "metadata": {},
     "output_type": "execute_result"
    }
   ],
   "source": [
    "pi=3.14159234\n",
    "sentance=\"pi is equal to {:.03f}\".format(pi)\n",
    "sentance"
   ]
  },
  {
   "cell_type": "code",
   "execution_count": 51,
   "metadata": {},
   "outputs": [
    {
     "name": "stdout",
     "output_type": "stream",
     "text": [
      "The value is 0001\n",
      "The value is 0002\n",
      "The value is 0003\n",
      "The value is 0004\n",
      "The value is 0005\n",
      "The value is 0006\n",
      "The value is 0007\n",
      "The value is 0008\n",
      "The value is 0009\n",
      "The value is 0010\n"
     ]
    }
   ],
   "source": [
    "for i in range(1,11):\n",
    "    sentance=\"The value is {:04}\".format(i)\n",
    "    print(sentance)"
   ]
  },
  {
   "cell_type": "code",
   "execution_count": 52,
   "metadata": {},
   "outputs": [
    {
     "name": "stdout",
     "output_type": "stream",
     "text": [
      "The value is 1.000000\n",
      "The value is 2.000000\n",
      "The value is 3.000000\n",
      "The value is 4.000000\n",
      "The value is 5.000000\n",
      "The value is 6.000000\n",
      "The value is 7.000000\n",
      "The value is 8.000000\n",
      "The value is 9.000000\n",
      "The value is 10.000000\n"
     ]
    }
   ],
   "source": [
    "for i in range(1,11):\n",
    "    sentance=\"The value is {:4f}\".format(i)\n",
    "    print(sentance)"
   ]
  },
  {
   "cell_type": "code",
   "execution_count": 55,
   "metadata": {},
   "outputs": [
    {
     "data": {
      "text/plain": [
       "'1 MB is qual to 1,000,000bytes'"
      ]
     },
     "execution_count": 55,
     "metadata": {},
     "output_type": "execute_result"
    }
   ],
   "source": [
    "sentance=\"1 MB is qual to {:,}bytes\".format(1000**2)\n",
    "sentance"
   ]
  },
  {
   "cell_type": "code",
   "execution_count": 59,
   "metadata": {},
   "outputs": [
    {
     "data": {
      "text/plain": [
       "datetime.datetime(2019, 9, 24, 12, 30, 45)"
      ]
     },
     "execution_count": 59,
     "metadata": {},
     "output_type": "execute_result"
    }
   ],
   "source": [
    "import datetime\n",
    "my_date=datetime.datetime(2019,9,24,12,30,45)\n",
    "my_date\n"
   ]
  },
  {
   "cell_type": "code",
   "execution_count": 60,
   "metadata": {},
   "outputs": [
    {
     "name": "stdout",
     "output_type": "stream",
     "text": [
      "2019-09-24 12:30:45\n"
     ]
    }
   ],
   "source": [
    "print(my_date)"
   ]
  },
  {
   "cell_type": "code",
   "execution_count": 61,
   "metadata": {},
   "outputs": [
    {
     "data": {
      "text/plain": [
       "'September 24, 2019'"
      ]
     },
     "execution_count": 61,
     "metadata": {},
     "output_type": "execute_result"
    }
   ],
   "source": [
    "sentance=\"{:%B %d, %Y}\".format(my_date)\n",
    "sentance"
   ]
  },
  {
   "cell_type": "code",
   "execution_count": 63,
   "metadata": {},
   "outputs": [
    {
     "name": "stdout",
     "output_type": "stream",
     "text": [
      "September 24,2019 fell on a Tuesday and was the 267 day of the year\n"
     ]
    }
   ],
   "source": [
    "sentance=\"{0:%B %d,%Y} fell on a {0:%A} and was the {0:%j} day of the year\".format(my_date)\n",
    "print(sentance)"
   ]
  },
  {
   "cell_type": "code",
   "execution_count": null,
   "metadata": {},
   "outputs": [],
   "source": []
  }
 ],
 "metadata": {
  "kernelspec": {
   "display_name": "Python 3",
   "language": "python",
   "name": "python3"
  },
  "language_info": {
   "codemirror_mode": {
    "name": "ipython",
    "version": 3
   },
   "file_extension": ".py",
   "mimetype": "text/x-python",
   "name": "python",
   "nbconvert_exporter": "python",
   "pygments_lexer": "ipython3",
   "version": "3.13.0"
  }
 },
 "nbformat": 4,
 "nbformat_minor": 2
}
