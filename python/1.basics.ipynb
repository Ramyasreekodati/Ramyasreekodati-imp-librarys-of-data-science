{
 "cells": [
  {
   "cell_type": "markdown",
   "metadata": {},
   "source": [
    "Maths operators\n"
   ]
  },
  {
   "cell_type": "code",
   "execution_count": 1,
   "metadata": {},
   "outputs": [
    {
     "name": "stdout",
     "output_type": "stream",
     "text": [
      "30\n"
     ]
    },
    {
     "data": {
      "text/plain": [
       "256"
      ]
     },
     "execution_count": 1,
     "metadata": {},
     "output_type": "execute_result"
    }
   ],
   "source": [
    "print((2+3)*6)      #additiokn,multiplicaiton\n",
    "2**8                #exponent"
   ]
  },
  {
   "cell_type": "code",
   "execution_count": 2,
   "metadata": {},
   "outputs": [
    {
     "data": {
      "text/plain": [
       "3"
      ]
     },
     "execution_count": 2,
     "metadata": {},
     "output_type": "execute_result"
    }
   ],
   "source": [
    "23//7               #integer division"
   ]
  },
  {
   "cell_type": "code",
   "execution_count": 3,
   "metadata": {},
   "outputs": [
    {
     "data": {
      "text/plain": [
       "2"
      ]
     },
     "execution_count": 3,
     "metadata": {},
     "output_type": "execute_result"
    }
   ],
   "source": [
    "23%7                #modulus/Remainder"
   ]
  },
  {
   "cell_type": "code",
   "execution_count": 4,
   "metadata": {},
   "outputs": [
    {
     "data": {
      "text/plain": [
       "16.0"
      ]
     },
     "execution_count": 4,
     "metadata": {},
     "output_type": "execute_result"
    }
   ],
   "source": [
    "(5-1)*((7+1)/(3-1))#The order is PEMDAS: Parentheses, Exponents,Multiplication, and Division (from left to right),\n",
    "                   #Addition and Subtraction (from left to right)"
   ]
  },
  {
   "cell_type": "markdown",
   "metadata": {},
   "source": [
    "Augmented Assignment Operators"
   ]
  },
  {
   "cell_type": "code",
   "execution_count": 5,
   "metadata": {},
   "outputs": [
    {
     "name": "stdout",
     "output_type": "stream",
     "text": [
      "Hello world!\n",
      "2\n",
      "['item', 'item', 'item']\n"
     ]
    }
   ],
   "source": [
    "greeting = 'Hello'      # greeting variable holds the string \"Hello\"\n",
    "greeting += ' world!'   # concatenating 'Hello' with ' world!' and storing it in the same variable\n",
    "print(greeting)         # printing the updated 'greeting' which now holds \"Hello world!\"\n",
    "\n",
    "number = 1              # 'number' variable is assigned the value 1\n",
    "number += 1             # adding 1 to 'number' (1 + 1 = 2) and updating the 'number' variable\n",
    "print(number)           # printing the updated 'number', which is now 2\n",
    "\n",
    "my_list = ['item']      # 'my_list' is a list with one item 'item'\n",
    "my_list *= 3            # multiplying the list by 3, repeating its content three times\n",
    "print(my_list)          # printing the updated 'my_list', which now contains ['item', 'item', 'item']\n"
   ]
  },
  {
   "cell_type": "markdown",
   "metadata": {},
   "source": [
    "walrus Operator"
   ]
  },
  {
   "cell_type": "code",
   "execution_count": 6,
   "metadata": {},
   "outputs": [
    {
     "name": "stdout",
     "output_type": "stream",
     "text": [
      "Hello World!\n",
      "Yes\n",
      "hello\n"
     ]
    }
   ],
   "source": [
    "print(my_var:=\"Hello World!\")\n",
    "my_var=\"Yes\"\n",
    "print(my_var)\n",
    "print(my_var:=\"hello\")"
   ]
  },
  {
   "cell_type": "code",
   "execution_count": 7,
   "metadata": {},
   "outputs": [
    {
     "name": "stdout",
     "output_type": "stream",
     "text": [
      "abcdefg\n",
      "abcdabcdabcdabcdabcd\n"
     ]
    }
   ],
   "source": [
    "print(\"abcd\"+\"efg\")#string concatination adding of two string\n",
    "#print(\"abcd\"+2) but it shows error because we adding string and number\"it only works for strings only\n",
    "print(\"abcd\"*5)    #string replication"
   ]
  },
  {
   "cell_type": "markdown",
   "metadata": {},
   "source": [
    "variables:\n",
    " A variable is the name given to a memory location. A value-holding Python variable is also known as an identifier\n",
    "\n",
    " The variable's first character must be an underscore or alphabet (_).\n",
    "Every one of the characters with the exception of the main person might be a letter set of lower-case(a-z), capitalized (A-Z), highlight, or digit (0-9).\n",
    "White space and special characters (!, @, #, %, etc.) are not allowed in the identifier name. ^, &, *).\n",
    "Identifier name should not be like any watchword characterized in the language.\n",
    "Names of identifiers are case-sensitive; for instance, my name, and MyName isn't something very similar.\n",
    "Examples of valid identifiers: a123, _n, n_9, etc.\n",
    "Examples of invalid identifiers: 1a, n%4, n 9, etc"
   ]
  },
  {
   "cell_type": "code",
   "execution_count": 8,
   "metadata": {},
   "outputs": [
    {
     "name": "stdout",
     "output_type": "stream",
     "text": [
      "Hello\n",
      "H\n",
      "e\n",
      "l\n",
      "l\n",
      "o\n",
      "Hello\n",
      "Hello\n",
      "Hello\n"
     ]
    }
   ],
   "source": [
    "#my variable = 'Hello'  #It can be only one word.\n",
    "                        # it shows error because we should not give space between \n",
    "#23_var = 'hello'       #It can’t begin with a number.\n",
    "#%$@variable = 'Hello'  #It can use only letters, numbers, \n",
    "                        # and the underscore (_) character.\n",
    "_spam = 'Hello'\n",
    "print(_spam)\n",
    "for i in _spam:\n",
    "    print(i)\n",
    "my_var = 'Hello'\n",
    "print(my_var)\n",
    "my_var_2 = 'Hello'\n",
    "print(my_var_2)\n",
    "var = 'Hello'\n",
    "print(var)"
   ]
  },
  {
   "cell_type": "markdown",
   "metadata": {},
   "source": [
    "comments\n",
    "Inline comment   :# this is one line comment\n",
    "Multiline comment:#this is a\n",
    "                  #multiline comment\n",
    "\n",
    "                  \"\"\"\n",
    "                    This is a multi-line comment.\n",
    "                    It spans multiple lines.\n",
    "                  \"\"\"\n",
    "\n",
    "                  ''' we can also use single \n",
    "                  quotes too'''"
   ]
  },
  {
   "cell_type": "code",
   "execution_count": 9,
   "metadata": {},
   "outputs": [],
   "source": [
    "#Function docstring\n",
    "def foo():\n",
    "    \"\"\"\n",
    "    This is a function docstring\n",
    "    You can also use:\n",
    "    ''' Function Docstring '''\n",
    "    \"\"\""
   ]
  },
  {
   "cell_type": "markdown",
   "metadata": {},
   "source": [
    "print:The print() function writes the value of the argument(s) it is given. […] it handles multiple arguments, floating point-quantities, and strings.\n",
    "end keyword:end can be used to avoid the newline after the output\n",
    "sep keyword:sep specify how to separate the objects"
   ]
  },
  {
   "cell_type": "code",
   "execution_count": 10,
   "metadata": {},
   "outputs": [
    {
     "name": "stdout",
     "output_type": "stream",
     "text": [
      "Hello world! 1\n",
      "cats,dogs,mice\n",
      "krishna-is-a-boy-"
     ]
    }
   ],
   "source": [
    "# Assigning the value 1 to variable 'a'\n",
    "a = 1\n",
    "# Printing 'Hello world!' and the value of 'a' at the same time\n",
    "print('Hello world!', a)\n",
    "print('cats', 'dogs', 'mice', sep=',')\n",
    "phrase=[\"krishna\",'is',\"a\",\"boy\"]\n",
    "for word in phrase:\n",
    "    print(word, end='-')\n"
   ]
  },
  {
   "cell_type": "markdown",
   "metadata": {},
   "source": [
    "input:takes the input from the user and converts it into a \"string\"\n",
    "it is a default message\n",
    "input() can also set a default message without using print()"
   ]
  },
  {
   "cell_type": "code",
   "execution_count": 11,
   "metadata": {},
   "outputs": [
    {
     "name": "stdout",
     "output_type": "stream",
     "text": [
      "Hi, ramya\n"
     ]
    }
   ],
   "source": [
    "my_name = input('What is your name? ')  # default message\n",
    "print('Hi, {}'.format(my_name))"
   ]
  },
  {
   "cell_type": "markdown",
   "metadata": {},
   "source": [
    "write format function here form you tube\n"
   ]
  },
  {
   "cell_type": "markdown",
   "metadata": {},
   "source": [
    "len () :\n",
    "the number of character in a string , list, dictionary,etc..,"
   ]
  },
  {
   "cell_type": "code",
   "execution_count": 12,
   "metadata": {},
   "outputs": [
    {
     "name": "stdout",
     "output_type": "stream",
     "text": [
      "5\n",
      "3\n",
      "6\n",
      "positive\n"
     ]
    }
   ],
   "source": [
    "print(len(\"hello\"))\n",
    "print(len([\"cat\",3,\"dog\"]))\n",
    "a = [1, 2, 3,\"string\",(\"loop\"),[list]]\n",
    "print(len(a))\n",
    "if len(a)>0:\n",
    "    try:\n",
    "        print(\"positive\")\n",
    "    except:\n",
    "        print(\"negative\")\n"
   ]
  },
  {
   "cell_type": "markdown",
   "metadata": {},
   "source": [
    "str(),int(),float()\n",
    "str:string\n",
    "int:integrer\n",
    "float:decimal number"
   ]
  },
  {
   "cell_type": "markdown",
   "metadata": {},
   "source": [
    "type casting: converting a value from one data type to another."
   ]
  },
  {
   "cell_type": "code",
   "execution_count": 13,
   "metadata": {},
   "outputs": [
    {
     "name": "stdout",
     "output_type": "stream",
     "text": [
      "5.0\n"
     ]
    }
   ],
   "source": [
    "# 1. Integer to float\n",
    "x = 5        # int\n",
    "y = float(x) # convert int to float\n",
    "print(y)     # 5.0\n"
   ]
  },
  {
   "cell_type": "code",
   "execution_count": 14,
   "metadata": {},
   "outputs": [
    {
     "name": "stdout",
     "output_type": "stream",
     "text": [
      "5\n"
     ]
    }
   ],
   "source": [
    "# 2. float to integer\n",
    "x = 5.7\n",
    "y = int(x)   # convert float to int (drops decimal part)\n",
    "print(y)     # 5\n"
   ]
  },
  {
   "cell_type": "code",
   "execution_count": 15,
   "metadata": {},
   "outputs": [
    {
     "name": "stdout",
     "output_type": "stream",
     "text": [
      "10\n"
     ]
    }
   ],
   "source": [
    "# 3. integer to string\n",
    "x = 10\n",
    "y = str(x)   # convert int to string\n",
    "print(y)     # \"10\"\n"
   ]
  },
  {
   "cell_type": "code",
   "execution_count": 16,
   "metadata": {},
   "outputs": [
    {
     "name": "stdout",
     "output_type": "stream",
     "text": [
      "3.14\n"
     ]
    }
   ],
   "source": [
    "# 4. String to float\n",
    "x = \"3.14\"\n",
    "y = float(x) # convert string to float\n",
    "print(y)     # 3.14\n"
   ]
  },
  {
   "cell_type": "code",
   "execution_count": 17,
   "metadata": {},
   "outputs": [
    {
     "data": {
      "text/plain": [
       "True"
      ]
     },
     "execution_count": 17,
     "metadata": {},
     "output_type": "execute_result"
    }
   ],
   "source": [
    "bool(int(float(str(1))))"
   ]
  },
  {
   "cell_type": "code",
   "execution_count": null,
   "metadata": {},
   "outputs": [],
   "source": []
  },
  {
   "cell_type": "code",
   "execution_count": null,
   "metadata": {},
   "outputs": [],
   "source": []
  },
  {
   "cell_type": "code",
   "execution_count": null,
   "metadata": {},
   "outputs": [],
   "source": []
  },
  {
   "cell_type": "code",
   "execution_count": null,
   "metadata": {},
   "outputs": [],
   "source": []
  },
  {
   "cell_type": "code",
   "execution_count": null,
   "metadata": {},
   "outputs": [],
   "source": []
  },
  {
   "cell_type": "code",
   "execution_count": null,
   "metadata": {},
   "outputs": [],
   "source": []
  },
  {
   "cell_type": "code",
   "execution_count": null,
   "metadata": {},
   "outputs": [],
   "source": []
  },
  {
   "cell_type": "code",
   "execution_count": null,
   "metadata": {},
   "outputs": [],
   "source": []
  }
 ],
 "metadata": {
  "kernelspec": {
   "display_name": "base",
   "language": "python",
   "name": "python3"
  },
  "language_info": {
   "codemirror_mode": {
    "name": "ipython",
    "version": 3
   },
   "file_extension": ".py",
   "mimetype": "text/x-python",
   "name": "python",
   "nbconvert_exporter": "python",
   "pygments_lexer": "ipython3",
   "version": "3.12.7"
  }
 },
 "nbformat": 4,
 "nbformat_minor": 2
}
