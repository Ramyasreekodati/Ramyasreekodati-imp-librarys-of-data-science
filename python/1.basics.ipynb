{
 "cells": [
  {
   "cell_type": "markdown",
   "metadata": {},
   "source": [
    "# What is Python?\n",
    "Python is a popular programming language. It was created by Guido van Rossum, and released in 1991.\n",
    "\n",
    "It is used for:\n",
    "\n",
    "1. web development (server-side),\n",
    "2. software development,\n",
    "3. mathematics,\n",
    "4. system scripting."
   ]
  },
  {
   "cell_type": "markdown",
   "metadata": {},
   "source": [
    "# Good to Know\n",
    "The most recent major version of Python is Python 3, which we will use in this tutorial. Python 2, which officially reached its end of life on January 1, 2020, is no longer maintained and should be avoided for new projects. Python 3 brings many enhancements in performance, syntax, and libraries and is the standard for modern Python development.\n",
    "\n",
    "In this tutorial, Python code will be written in a text editor. However, for larger projects or ease of development, you can use an Integrated Development Environment (IDE), such as:\n",
    "\n",
    "1. Thonny: Beginner-friendly and lightweight.\n",
    "2. PyCharm: A powerful IDE with extensive tools for Python development.\n",
    "3. VS Code: Highly customizable and lightweight, with excellent Python support.\n",
    "4. Jupyter Notebook: Ideal for data science and interactive development.\n",
    "5. Eclipse with PyDev: Useful for managing larger collections of Python files.\n",
    "6. IDLE: Python's built-in IDE, simple and sufficient for small projects.\n",
    "\n",
    "Each of these tools offers features like syntax highlighting, debugging, and integrated testing,\n",
    " making them particularly useful for managing larger or more complex Python projects."
   ]
  },
  {
   "cell_type": "markdown",
   "metadata": {},
   "source": [
    "# what we are going to duscuss here ?\n",
    "\n",
    "we are going to duscuss about basic maths opeators"
   ]
  },
  {
   "cell_type": "markdown",
   "metadata": {},
   "source": [
    "# Maths operators\n"
   ]
  },
  {
   "cell_type": "code",
   "execution_count": null,
   "metadata": {},
   "outputs": [
    {
     "name": "stdout",
     "output_type": "stream",
     "text": [
      "30\n"
     ]
    },
    {
     "data": {
      "text/plain": [
       "256"
      ]
     },
     "execution_count": 13,
     "metadata": {},
     "output_type": "execute_result"
    }
   ],
   "source": [
    "print((2+3)*6)      #addition,multiplication\n",
    "2**8                #exponent"
   ]
  },
  {
   "cell_type": "code",
   "execution_count": 14,
   "metadata": {},
   "outputs": [
    {
     "data": {
      "text/plain": [
       "3"
      ]
     },
     "execution_count": 14,
     "metadata": {},
     "output_type": "execute_result"
    }
   ],
   "source": [
    "23//7               #integer division"
   ]
  },
  {
   "cell_type": "code",
   "execution_count": 15,
   "metadata": {},
   "outputs": [
    {
     "data": {
      "text/plain": [
       "2"
      ]
     },
     "execution_count": 15,
     "metadata": {},
     "output_type": "execute_result"
    }
   ],
   "source": [
    "23%7                #modulus/Remainder"
   ]
  },
  {
   "cell_type": "code",
   "execution_count": 16,
   "metadata": {},
   "outputs": [
    {
     "data": {
      "text/plain": [
       "16.0"
      ]
     },
     "execution_count": 16,
     "metadata": {},
     "output_type": "execute_result"
    }
   ],
   "source": [
    "(5-1)*((7+1)/(3-1))#The order is PEMDAS: Parentheses, Exponents,Multiplication, and Division (from left to right),\n",
    "                   #Addition and Subtraction (from left to right)"
   ]
  },
  {
   "cell_type": "markdown",
   "metadata": {},
   "source": [
    "## Python has the following types of operators:\n",
    "\n",
    "##### Arithmetic operators: \n",
    "Perform mathematical operations like addition (+), subtraction (-), multiplication (*), division (/), modulo (%), floor division (//), and exponentiation (**).\n",
    "\n",
    "##### Comparison operators: \n",
    "Compare values and return a Boolean result (True or False). These include == (equal to), != (not equal to), > (greater than), < (less than), >= (greater than or equal to), and <= (less than or equal to).\n",
    "\n",
    "##### Assignment operators: \n",
    "Assign values to variables, such as = (simple assignment), += (add and assign), -= (subtract and assign), and so on.\n",
    "\n",
    "##### Logical operators: \n",
    "Combine Boolean values and return a Boolean result. These include and, or, and not.\n",
    "\n",
    "##### Identity operators: \n",
    "Compare the memory locations of two objects using is and is not.\n",
    "\n",
    "##### Membership operators: \n",
    "Check if a value is a member of a sequence using in and not in.\n",
    "\n",
    "##### Bitwise operators:\n",
    "Perform operations on the binary representations of integers. These include & (bitwise AND), | (bitwise OR), ^ (bitwise XOR), ~ (bitwise NOT), << (left shift), and >> (right shift)."
   ]
  },
  {
   "cell_type": "markdown",
   "metadata": {},
   "source": [
    "# Augmented Assignment Operators"
   ]
  },
  {
   "cell_type": "code",
   "execution_count": 17,
   "metadata": {},
   "outputs": [
    {
     "name": "stdout",
     "output_type": "stream",
     "text": [
      "Hello world!\n",
      "2\n",
      "['item', 'item', 'item']\n"
     ]
    }
   ],
   "source": [
    "greeting = 'Hello'      # greeting variable holds the string \"Hello\"\n",
    "greeting += ' world!'   # concatenating 'Hello' with ' world!' and storing it in the same variable\n",
    "print(greeting)         # printing the updated 'greeting' which now holds \"Hello world!\"\n",
    "\n",
    "number = 1              # 'number' variable is assigned the value 1\n",
    "number += 1             # adding 1 to 'number' (1 + 1 = 2) and updating the 'number' variable\n",
    "print(number)           # printing the updated 'number', which is now 2\n",
    "\n",
    "my_list = ['item']      # 'my_list' is a list with one item 'item'\n",
    "my_list *= 3            # multiplying the list by 3, repeating its content three times\n",
    "print(my_list)          # printing the updated 'my_list', which now contains ['item', 'item', 'item']\n"
   ]
  },
  {
   "cell_type": "markdown",
   "metadata": {},
   "source": [
    "# walrus Operator"
   ]
  },
  {
   "cell_type": "code",
   "execution_count": 18,
   "metadata": {},
   "outputs": [
    {
     "name": "stdout",
     "output_type": "stream",
     "text": [
      "Hello World!\n",
      "Yes\n",
      "hello\n"
     ]
    }
   ],
   "source": [
    "print(my_var:=\"Hello World!\")\n",
    "my_var=\"Yes\"\n",
    "print(my_var)\n",
    "print(my_var:=\"hello\")"
   ]
  },
  {
   "cell_type": "markdown",
   "metadata": {},
   "source": [
    "# Arithmetic Operators"
   ]
  },
  {
   "cell_type": "code",
   "execution_count": 1,
   "metadata": {},
   "outputs": [],
   "source": [
    "a = 10\n",
    "b = 3"
   ]
  },
  {
   "cell_type": "code",
   "execution_count": 2,
   "metadata": {},
   "outputs": [
    {
     "name": "stdout",
     "output_type": "stream",
     "text": [
      "Addition: 13\n",
      "Subtraction: 7\n",
      "Multiplication: 30\n",
      "Division: 3.3333333333333335\n",
      "Modulo: 1\n",
      "Floor Division: 3\n",
      "Exponentiation: 1000\n"
     ]
    }
   ],
   "source": [
    "print(\"Addition:\", a + b)          # Addition\n",
    "print(\"Subtraction:\", a - b)       # Subtraction\n",
    "print(\"Multiplication:\", a * b)    # Multiplication\n",
    "print(\"Division:\", a / b)          # Division\n",
    "print(\"Modulo:\", a % b)            # Modulo\n",
    "print(\"Floor Division:\", a // b)   # Floor Division\n",
    "print(\"Exponentiation:\", a ** b)   # Exponentiation"
   ]
  },
  {
   "cell_type": "markdown",
   "metadata": {},
   "source": [
    "# Comparison Operators"
   ]
  },
  {
   "cell_type": "code",
   "execution_count": 3,
   "metadata": {},
   "outputs": [],
   "source": [
    "a = 123\n",
    "b = 144"
   ]
  },
  {
   "cell_type": "code",
   "execution_count": 4,
   "metadata": {},
   "outputs": [
    {
     "name": "stdout",
     "output_type": "stream",
     "text": [
      "Equal to: False\n",
      "Not equal to: True\n",
      "Greater than: False\n",
      "Less than: True\n",
      "Greater than or equal to: False\n",
      "Less than or equal to: True\n"
     ]
    }
   ],
   "source": [
    "print(\"Equal to:\", a == b)         # Equal to\n",
    "print(\"Not equal to:\", a != b)     # Not equal to\n",
    "print(\"Greater than:\", a > b)      # Greater than\n",
    "print(\"Less than:\", a < b)         # Less than\n",
    "print(\"Greater than or equal to:\", a >= b) # Greater than or equal to\n",
    "print(\"Less than or equal to:\", a <= b)    # Less than or equal to"
   ]
  },
  {
   "cell_type": "markdown",
   "metadata": {},
   "source": [
    "\n",
    "# Logical Operators"
   ]
  },
  {
   "cell_type": "code",
   "execution_count": 12,
   "metadata": {},
   "outputs": [],
   "source": [
    "x = True\n",
    "y = False"
   ]
  },
  {
   "cell_type": "code",
   "execution_count": 13,
   "metadata": {},
   "outputs": [
    {
     "name": "stdout",
     "output_type": "stream",
     "text": [
      "x and y: False\n",
      "x or y: True\n",
      "not x: False\n"
     ]
    }
   ],
   "source": [
    "\n",
    "print(\"x and y:\", x and y)         # Logical AND\n",
    "print(\"x or y:\", x or y)           # Logical OR\n",
    "print(\"not x:\", not x)             # Logical NOT"
   ]
  },
  {
   "cell_type": "markdown",
   "metadata": {},
   "source": [
    "# Identity Operators"
   ]
  },
  {
   "cell_type": "code",
   "execution_count": 7,
   "metadata": {},
   "outputs": [],
   "source": [
    "list1 = [1, 2, 3]\n",
    "list2 = [1, 2, 3]\n"
   ]
  },
  {
   "cell_type": "code",
   "execution_count": 8,
   "metadata": {},
   "outputs": [
    {
     "name": "stdout",
     "output_type": "stream",
     "text": [
      "list1 is list2: False\n",
      "list1 is not list2: True\n"
     ]
    }
   ],
   "source": [
    "print(\"list1 is list2:\", list1 is list2)      # Memory location comparison\n",
    "print(\"list1 is not list2:\", list1 is not list2)"
   ]
  },
  {
   "cell_type": "markdown",
   "metadata": {},
   "source": [
    "\n",
    "# Membership Operators"
   ]
  },
  {
   "cell_type": "code",
   "execution_count": 9,
   "metadata": {},
   "outputs": [],
   "source": [
    "list1 = [1, 2, 3]\n",
    "list2 = [4, 5, 6]"
   ]
  },
  {
   "cell_type": "code",
   "execution_count": 10,
   "metadata": {},
   "outputs": [
    {
     "name": "stdout",
     "output_type": "stream",
     "text": [
      "2 in list1: True\n",
      "4 not in list1: True\n"
     ]
    }
   ],
   "source": [
    "print(\"2 in list1:\", 2 in list1)   # Check membership\n",
    "print(\"4 not in list1:\", 4 not in list1) # Check non-membership"
   ]
  },
  {
   "cell_type": "markdown",
   "metadata": {},
   "source": [
    "# Bitwise Operators"
   ]
  },
  {
   "cell_type": "code",
   "execution_count": 11,
   "metadata": {},
   "outputs": [
    {
     "name": "stdout",
     "output_type": "stream",
     "text": [
      "Bitwise AND: 4\n",
      "Bitwise OR: 5\n",
      "Bitwise XOR: 1\n",
      "Bitwise NOT (~x): -5\n",
      "Left Shift (x << 1): 8\n",
      "Right Shift (x >> 1): 2\n"
     ]
    }
   ],
   "source": [
    "x = 4  # Binary: 0100\n",
    "y = 5  # Binary: 0101\n",
    "print(\"Bitwise AND:\", x & y)       # AND: 0100 & 0101 = 0100\n",
    "print(\"Bitwise OR:\", x | y)        # OR: 0100 | 0101 = 0101\n",
    "print(\"Bitwise XOR:\", x ^ y)       # XOR: 0100 ^ 0101 = 0001\n",
    "print(\"Bitwise NOT (~x):\", ~x)     # NOT: ~0100 = -(0100 + 1) = -5\n",
    "print(\"Left Shift (x << 1):\", x << 1) # Left shift\n",
    "print(\"Right Shift (x >> 1):\", x >> 1) # Right shift"
   ]
  },
  {
   "cell_type": "code",
   "execution_count": 19,
   "metadata": {},
   "outputs": [
    {
     "name": "stdout",
     "output_type": "stream",
     "text": [
      "abcdefg\n",
      "abcdabcdabcdabcdabcd\n"
     ]
    }
   ],
   "source": [
    "print(\"abcd\"+\"efg\")#string concatination adding of two string\n",
    "#print(\"abcd\"+2) but it shows error because we adding string and number\"it only works for strings only\n",
    "print(\"abcd\"*5)    #string replication"
   ]
  },
  {
   "cell_type": "markdown",
   "metadata": {},
   "source": [
    "# variables:\n",
    "\n",
    "1. A variable is the name given to a memory location. A value-holding Python variable is also known as an identifier\n",
    "\n",
    "2. The variable's first character must be an underscore or alphabet (_).\n",
    "\n",
    "3. Every one of the characters with the exception of the main person might be a letter set of lower-case(a-z), capitalized (A-Z), highlight, or digit (0-9).\n",
    "\n",
    "4. White space and special characters (!, @, #, %, etc.) are not allowed in the identifier name. ^, &, *).\n",
    "\n",
    "5. Identifier name should not be like any watchword characterized in the language.\n",
    "\n",
    "6. Names of identifiers are case-sensitive; for instance, my name, and MyName isn't something very similar.\n",
    "\n",
    "##### Examples of valid identifiers: a123, _n, n_9, etc.\n",
    "\n",
    "##### Examples of invalid identifiers: 1a, n%4, n 9, etc"
   ]
  },
  {
   "cell_type": "code",
   "execution_count": 1,
   "metadata": {},
   "outputs": [
    {
     "name": "stdout",
     "output_type": "stream",
     "text": [
      "Hello\n",
      "H\n",
      "e\n",
      "l\n",
      "l\n",
      "o\n",
      "Hello\n",
      "Hello\n",
      "Hello\n"
     ]
    }
   ],
   "source": [
    "#my variable = 'Hello'  #It can be only one word.\n",
    "                        # it shows error because we should not give space between \n",
    "#23_var      = 'hello'  #It can’t begin with a number.\n",
    "#%$@variable = 'Hello'  #It can use only letters, numbers, \n",
    "                        # and the underscore (_) character.\n",
    "_spam = 'Hello'\n",
    "print(_spam)\n",
    "for i in _spam:\n",
    "    print(i)\n",
    "my_var = 'Hello'\n",
    "print(my_var)\n",
    "my_var_2 = 'Hello'\n",
    "print(my_var_2)\n",
    "var = 'Hello'\n",
    "print(var)"
   ]
  },
  {
   "cell_type": "markdown",
   "metadata": {},
   "source": [
    "# comments\n",
    "##### Inline comment   :# this is one line comment\n",
    "##### Multiline comment:#this is a\n",
    "                  #multiline comment\n",
    "\n",
    "                  \"\"\"\n",
    "                    This is a multi-line comment.\n",
    "                    It spans multiple lines.\n",
    "                  \"\"\"\n",
    "\n",
    "                  ''' we can also use single \n",
    "                  quotes too'''"
   ]
  },
  {
   "cell_type": "code",
   "execution_count": 2,
   "metadata": {},
   "outputs": [],
   "source": [
    "#Function docstring\n",
    "def foo():\n",
    "    \"\"\"\n",
    "    This is a function docstring\n",
    "    You can also use:\n",
    "    ''' Function Docstring '''\n",
    "    \"\"\""
   ]
  },
  {
   "cell_type": "markdown",
   "metadata": {},
   "source": [
    "#### print:\n",
    "The print() function writes the value of the argument(s) it is given. […] it handles multiple arguments, floating point-quantities, and strings.\n",
    "\n",
    "#### end keyword:\n",
    "end can be used to avoid the newline after the output\n",
    "\n",
    "#### sep keyword:\n",
    "sep specify how to separate the objects"
   ]
  },
  {
   "cell_type": "code",
   "execution_count": 3,
   "metadata": {},
   "outputs": [
    {
     "name": "stdout",
     "output_type": "stream",
     "text": [
      "Hello world! 1\n",
      "cats,dogs,mice\n",
      "krishna-is-a-boy-"
     ]
    }
   ],
   "source": [
    "# Assigning the value 1 to variable 'a'\n",
    "a = 1\n",
    "# Printing 'Hello world!' and the value of 'a' at the same time\n",
    "print('Hello world!', a)\n",
    "print('cats', 'dogs', 'mice', sep=',')\n",
    "phrase=[\"krishna\",'is',\"a\",\"boy\"]\n",
    "for word in phrase:\n",
    "    print(word, end='-')\n"
   ]
  },
  {
   "cell_type": "markdown",
   "metadata": {},
   "source": [
    "#### input:\n",
    "takes the input from the user and converts it into a \"string\".\n",
    "it is a default message\n",
    "input() can also set a default message without using print()"
   ]
  },
  {
   "cell_type": "code",
   "execution_count": null,
   "metadata": {},
   "outputs": [],
   "source": [
    "my_name = input('What is your name? ')  # default message\n",
    "print('Hi, {}'.format(my_name))"
   ]
  },
  {
   "cell_type": "markdown",
   "metadata": {},
   "source": [
    "write format function here form you tube\n"
   ]
  },
  {
   "cell_type": "markdown",
   "metadata": {},
   "source": [
    "#### len () :\n",
    "the number of character in a string , list, dictionary,etc..,"
   ]
  },
  {
   "cell_type": "code",
   "execution_count": 24,
   "metadata": {},
   "outputs": [
    {
     "name": "stdout",
     "output_type": "stream",
     "text": [
      "5\n",
      "3\n",
      "6\n",
      "positive\n"
     ]
    }
   ],
   "source": [
    "print(len(\"hello\"))\n",
    "print(len([\"cat\",3,\"dog\"]))\n",
    "a = [1, 2, 3,\"string\",(\"loop\"),[list]]\n",
    "print(len(a))\n",
    "if len(a)>0:\n",
    "    try:\n",
    "        print(\"positive\")\n",
    "    except:\n",
    "        print(\"negative\")\n"
   ]
  },
  {
   "cell_type": "markdown",
   "metadata": {},
   "source": [
    "str(),int(),float()\n",
    "\n",
    "str:string\n",
    "\n",
    "int:integrer\n",
    "\n",
    "float:decimal number"
   ]
  },
  {
   "cell_type": "markdown",
   "metadata": {},
   "source": [
    "type casting write here:"
   ]
  }
 ],
 "metadata": {
  "kernelspec": {
   "display_name": "Python 3",
   "language": "python",
   "name": "python3"
  },
  "language_info": {
   "codemirror_mode": {
    "name": "ipython",
    "version": 3
   },
   "file_extension": ".py",
   "mimetype": "text/x-python",
   "name": "python",
   "nbconvert_exporter": "python",
   "pygments_lexer": "ipython3",
   "version": "3.13.0"
  }
 },
 "nbformat": 4,
 "nbformat_minor": 2
}
